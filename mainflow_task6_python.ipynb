{
  "nbformat": 4,
  "nbformat_minor": 0,
  "metadata": {
    "colab": {
      "provenance": []
    },
    "kernelspec": {
      "name": "python3",
      "display_name": "Python 3"
    },
    "language_info": {
      "name": "python"
    }
  },
  "cells": [
    {
      "cell_type": "markdown",
      "source": [
        "**WEEK 6 PROGRAMMING INTERNSHIP**"
      ],
      "metadata": {
        "id": "uhwJ5lKAaJDF"
      }
    },
    {
      "cell_type": "markdown",
      "source": [
        "39. Sudoku Validator\n",
        "Objective: Validate whether a given Sudoku board configuration is valid.\n",
        "Input: A 9x9 2D list representing a Sudoku board.\n",
        "Output: True if valid, otherwise False.\n",
        "Hint: Check rows, columns, and 3×33 \\times 33×3 grids for duplicates."
      ],
      "metadata": {
        "id": "7iJzSIRGanoa"
      }
    },
    {
      "cell_type": "code",
      "execution_count": 5,
      "metadata": {
        "colab": {
          "base_uri": "https://localhost:8080/"
        },
        "id": "jc3rLQ2MaGzK",
        "outputId": "ecd15038-db2b-4348-cd79-ab20aa0c7a09"
      },
      "outputs": [
        {
          "output_type": "stream",
          "name": "stdout",
          "text": [
            "True\n"
          ]
        }
      ],
      "source": [
        "from typing import List\n",
        "\n",
        "def is_valid_sudoku(board: List[List[str]]) -> bool:\n",
        "    \"\"\"\n",
        "    Validates whether a given 9x9 Sudoku board configuration is valid.\n",
        "\n",
        "    :param board: 9x9 list of strings representing the Sudoku board.\n",
        "                  Empty cells are represented by '.'.\n",
        "    :return: True if the board is valid, otherwise False.\n",
        "    \"\"\"\n",
        "    def has_no_duplicates(cells: List[str]) -> bool:\n",
        "        \"\"\"Helper function to check if a list has duplicate numbers ignoring '.'.\"\"\"\n",
        "        numbers = [num for num in cells if num != '.']\n",
        "        return len(numbers) == len(set(numbers))\n",
        "\n",
        "    # Check rows and columns\n",
        "    for i in range(9):\n",
        "        if not has_no_duplicates(board[i]) or not has_no_duplicates([board[j][i] for j in range(9)]):\n",
        "            return False\n",
        "\n",
        "    # Check 3x3 subgrids\n",
        "    for row in range(0, 9, 3):\n",
        "        for col in range(0, 9, 3):\n",
        "            subgrid = [board[x][y] for x in range(row, row + 3) for y in range(col, col + 3)]\n",
        "            if not has_no_duplicates(subgrid):\n",
        "                return False\n",
        "\n",
        "    return True\n",
        "\n",
        "# Example usage\n",
        "sudoku_board = [\n",
        "    [\"5\", \"3\", \".\", \".\", \"7\", \".\", \".\", \".\", \".\"],\n",
        "    [\"6\", \".\", \".\", \"1\", \"9\", \"5\", \".\", \".\", \".\"],\n",
        "    [\".\", \"9\", \"8\", \".\", \".\", \".\", \".\", \"6\", \".\"],\n",
        "    [\"8\", \".\", \".\", \".\", \"6\", \".\", \".\", \".\", \"3\"],\n",
        "    [\"4\", \".\", \".\", \"8\", \".\", \"3\", \".\", \".\", \"1\"],\n",
        "    [\"7\", \".\", \".\", \".\", \"2\", \".\", \".\", \".\", \"6\"],\n",
        "    [\".\", \"6\", \".\", \".\", \".\", \".\", \"2\", \"8\", \".\"],\n",
        "    [\".\", \".\", \".\", \"4\", \"1\", \"9\", \".\", \".\", \"5\"],\n",
        "    [\".\", \".\", \".\", \".\", \"8\", \".\", \".\", \"7\", \"9\"]\n",
        "]\n",
        "\n",
        "print(is_valid_sudoku(sudoku_board))\n"
      ]
    },
    {
      "cell_type": "markdown",
      "source": [
        "40. Word Frequency in Text\n",
        "Objective: Count the frequency of each word in a given text.\n",
        "Input: A string of text.\n",
        "Output: A dictionary where keys are words and values are their counts.\n",
        "Hint: Use split() to separate words and a dictionary to store counts.\n"
      ],
      "metadata": {
        "id": "YIPV7OlFb6r0"
      }
    },
    {
      "cell_type": "code",
      "source": [
        "from collections import defaultdict\n",
        "from typing import Dict\n",
        "\n",
        "def word_frequency(text: str) -> Dict[str, int]:\n",
        "    \"\"\"\n",
        "    Counts the frequency of each word in the given text.\n",
        "\n",
        "    :param text: A string containing words.\n",
        "    :return: A dictionary where keys are words and values are their counts.\n",
        "    \"\"\"\n",
        "    word_count = defaultdict(int)\n",
        "    words = text.lower().split()\n",
        "\n",
        "    for word in words:\n",
        "        cleaned_word = ''.join(char for char in word if char.isalnum())  # Remove punctuation\n",
        "        if cleaned_word:\n",
        "            word_count[cleaned_word] += 1\n",
        "\n",
        "    return dict(word_count)\n",
        "\n",
        "# Example usage\n",
        "text = \"This is a sample text. This text is just a sample.\"\n",
        "print(word_frequency(text))\n"
      ],
      "metadata": {
        "colab": {
          "base_uri": "https://localhost:8080/"
        },
        "id": "a4gI29_wcC_A",
        "outputId": "98d6d0d7-9a8e-46e6-c144-2a472d875284"
      },
      "execution_count": 6,
      "outputs": [
        {
          "output_type": "stream",
          "name": "stdout",
          "text": [
            "{'this': 2, 'is': 2, 'a': 2, 'sample': 2, 'text': 2, 'just': 1}\n"
          ]
        }
      ]
    },
    {
      "cell_type": "markdown",
      "source": [
        "41. Knapsack Problem (0/1)\n",
        "Objective: Solve the 0/1 knapsack problem using dynamic programming.\n",
        "Input: A list of weights, a list of values, and a maximum capacity.\n",
        "Output: The maximum value that can be carried within the capacity.\n",
        "Hint: Use a dynamic programming table to keep track of the maximum values at each\n",
        "capacity."
      ],
      "metadata": {
        "id": "75eTTqrhcGxP"
      }
    },
    {
      "cell_type": "code",
      "source": [
        "from typing import List\n",
        "\n",
        "def knapsack_01(weights: List[int], values: List[int], capacity: int) -> int:\n",
        "    \"\"\"\n",
        "    Solves the 0/1 knapsack problem using dynamic programming.\n",
        "\n",
        "    :param weights: List of item weights.\n",
        "    :param values: List of item values.\n",
        "    :param capacity: Maximum weight capacity of the knapsack.\n",
        "    :return: The maximum value that can be carried within the capacity.\n",
        "    \"\"\"\n",
        "    n = len(weights)\n",
        "    dp = [[0] * (capacity + 1) for _ in range(n + 1)]\n",
        "\n",
        "    for i in range(1, n + 1):\n",
        "        for w in range(capacity + 1):\n",
        "            if weights[i - 1] <= w:\n",
        "                dp[i][w] = max(dp[i - 1][w], values[i - 1] + dp[i - 1][w - weights[i - 1]])\n",
        "            else:\n",
        "                dp[i][w] = dp[i - 1][w]\n",
        "\n",
        "    return dp[n][capacity]\n",
        "\n",
        "# Example usage\n",
        "weights = [2, 3, 4, 5]\n",
        "values = [3, 4, 5, 6]\n",
        "capacity = 5\n",
        "print(knapsack_01(weights, values, capacity))\n"
      ],
      "metadata": {
        "colab": {
          "base_uri": "https://localhost:8080/"
        },
        "id": "7omoITSucNjR",
        "outputId": "809c0fdb-77e4-4578-fa93-4cc75fa19f5d"
      },
      "execution_count": 7,
      "outputs": [
        {
          "output_type": "stream",
          "name": "stdout",
          "text": [
            "7\n"
          ]
        }
      ]
    },
    {
      "cell_type": "markdown",
      "source": [
        "42. Merge Intervals\n",
        "Objective: Merge overlapping intervals in a list of intervals.\n",
        "Input: A list of intervals where each interval is represented as a pair of integers\n",
        "[start,end][start, end][start,end].\n",
        "Output: A list of merged intervals.\n",
        "Hint: Sort the intervals by start time and merge if the start of the current interval is less\n",
        "than or equal to the end of the previous one."
      ],
      "metadata": {
        "id": "H5E-RsdZcX6n"
      }
    },
    {
      "cell_type": "code",
      "source": [
        "from typing import List\n",
        "\n",
        "def merge_intervals(intervals: List[List[int]]) -> List[List[int]]:\n",
        "    \"\"\"\n",
        "    Merges overlapping intervals in a list of intervals.\n",
        "\n",
        "    :param intervals: List of intervals represented as [start, end].\n",
        "    :return: A list of merged intervals.\n",
        "    \"\"\"\n",
        "    if not intervals:\n",
        "        return []\n",
        "\n",
        "    # Sort intervals based on the start time\n",
        "    intervals.sort(key=lambda x: x[0])\n",
        "    merged = [intervals[0]]\n",
        "\n",
        "    for current in intervals[1:]:\n",
        "        last_merged = merged[-1]\n",
        "        if current[0] <= last_merged[1]:\n",
        "            last_merged[1] = max(last_merged[1], current[1])\n",
        "        else:\n",
        "            merged.append(current)\n",
        "\n",
        "    return merged\n",
        "\n",
        "# Example usage\n",
        "intervals = [[1, 3], [2, 6], [8, 10], [15, 18]]\n",
        "print(merge_intervals(intervals))\n"
      ],
      "metadata": {
        "colab": {
          "base_uri": "https://localhost:8080/"
        },
        "id": "bNs3Ipa3cag9",
        "outputId": "666bcb22-7b16-426a-889a-9fe80939100a"
      },
      "execution_count": 8,
      "outputs": [
        {
          "output_type": "stream",
          "name": "stdout",
          "text": [
            "[[1, 6], [8, 10], [15, 18]]\n"
          ]
        }
      ]
    },
    {
      "cell_type": "markdown",
      "source": [
        "43. Find the Median of Two Sorted Arrays\n",
        "Objective: Find the median of two sorted arrays.\n",
        "Input: Two sorted lists.\n",
        "Output: The median value of the two lists.\n",
        "Hint: Use binary search or merge the two arrays and find the median."
      ],
      "metadata": {
        "id": "BEWnFIZIc17N"
      }
    },
    {
      "cell_type": "code",
      "source": [
        "from typing import List\n",
        "\n",
        "def find_median_sorted_arrays(nums1: List[int], nums2: List[int]) -> float:\n",
        "    \"\"\"\n",
        "    Finds the median of two sorted arrays using binary search.\n",
        "\n",
        "    :param nums1: First sorted list.\n",
        "    :param nums2: Second sorted list.\n",
        "    :return: The median of the two sorted arrays.\n",
        "    \"\"\"\n",
        "    if len(nums1) > len(nums2):\n",
        "        nums1, nums2 = nums2, nums1  # Ensure nums1 is the smaller array\n",
        "\n",
        "    x, y = len(nums1), len(nums2)\n",
        "    low, high = 0, x\n",
        "\n",
        "    while low <= high:\n",
        "        partition_x = (low + high) // 2\n",
        "        partition_y = (x + y + 1) // 2 - partition_x\n",
        "\n",
        "        max_left_x = float('-inf') if partition_x == 0 else nums1[partition_x - 1]\n",
        "        min_right_x = float('inf') if partition_x == x else nums1[partition_x]\n",
        "\n",
        "        max_left_y = float('-inf') if partition_y == 0 else nums2[partition_y - 1]\n",
        "        min_right_y = float('inf') if partition_y == y else nums2[partition_y]\n",
        "\n",
        "        if max_left_x <= min_right_y and max_left_y <= min_right_x:\n",
        "            if (x + y) % 2 == 0:\n",
        "                return (max(max_left_x, max_left_y) + min(min_right_x, min_right_y)) / 2.0\n",
        "            else:\n",
        "                return max(max_left_x, max_left_y)\n",
        "        elif max_left_x > min_right_y:\n",
        "            high = partition_x - 1\n",
        "        else:\n",
        "            low = partition_x + 1\n",
        "\n",
        "# Example Usage:\n",
        "nums1 = [1, 3]\n",
        "nums2 = [2]\n",
        "print(find_median_sorted_arrays(nums1, nums2))  # Output: 2.0\n"
      ],
      "metadata": {
        "colab": {
          "base_uri": "https://localhost:8080/"
        },
        "id": "6XfXhE0GdgLa",
        "outputId": "1b9c0d92-7ef8-4366-d9de-f1ed6459831e"
      },
      "execution_count": 9,
      "outputs": [
        {
          "output_type": "stream",
          "name": "stdout",
          "text": [
            "2\n"
          ]
        }
      ]
    },
    {
      "cell_type": "markdown",
      "source": [
        "44. Maximal Rectangle in Binary Matrix\n",
        "Objective: Find the area of the largest rectangle in a binary matrix (matrix containing\n",
        "only 0's and 1's).\n",
        "Input: A 2D binary matrix.\n",
        "Output: The area of the largest rectangle formed by 1's.\n",
        "Hint: Use dynamic programming by treating each row as the base of a histogram and\n",
        "applying the largest rectangle in histogram technique.\n"
      ],
      "metadata": {
        "id": "XC9Buta9c-YS"
      }
    },
    {
      "cell_type": "code",
      "source": [
        "from typing import List\n",
        "\n",
        "def largest_rectangle_area(heights: List[int]) -> int:\n",
        "    \"\"\"Finds the largest rectangle area in a histogram.\"\"\"\n",
        "    stack = []\n",
        "    max_area = 0\n",
        "    heights.append(0)  # Add a sentinel value to clear the stack at the end\n",
        "\n",
        "    for i, h in enumerate(heights):\n",
        "        while stack and heights[stack[-1]] > h:\n",
        "            height = heights[stack.pop()]\n",
        "            width = i if not stack else i - stack[-1] - 1\n",
        "            max_area = max(max_area, height * width)\n",
        "        stack.append(i)\n",
        "\n",
        "    heights.pop()  # Remove the sentinel value\n",
        "    return max_area\n",
        "\n",
        "def maximal_rectangle(matrix: List[List[str]]) -> int:\n",
        "    \"\"\"Finds the area of the largest rectangle in a binary matrix.\"\"\"\n",
        "    if not matrix or not matrix[0]:\n",
        "        return 0\n",
        "\n",
        "    rows, cols = len(matrix), len(matrix[0])\n",
        "    heights = [0] * cols\n",
        "    max_area = 0\n",
        "\n",
        "    for row in matrix:\n",
        "        for i in range(cols):\n",
        "            heights[i] = heights[i] + 1 if row[i] == '1' else 0\n",
        "\n",
        "        max_area = max(max_area, largest_rectangle_area(heights))\n",
        "\n",
        "    return max_area\n",
        "\n",
        "# Example Usage:\n",
        "binary_matrix = [\n",
        "    [\"1\", \"0\", \"1\", \"0\", \"0\"],\n",
        "    [\"1\", \"0\", \"1\", \"1\", \"1\"],\n",
        "    [\"1\", \"1\", \"1\", \"1\", \"1\"],\n",
        "    [\"1\", \"0\", \"0\", \"1\", \"0\"]\n",
        "]\n",
        "\n",
        "print(maximal_rectangle(binary_matrix))  # Output: 6\n"
      ],
      "metadata": {
        "colab": {
          "base_uri": "https://localhost:8080/"
        },
        "id": "K0X0XpsgdU97",
        "outputId": "3ff24676-7d44-4d77-b62e-063adcfab96f"
      },
      "execution_count": 10,
      "outputs": [
        {
          "output_type": "stream",
          "name": "stdout",
          "text": [
            "6\n"
          ]
        }
      ]
    },
    {
      "cell_type": "markdown",
      "source": [
        "45. Largest Sum Contiguous Subarray (Kadane's Algorithm)\n",
        "Objective: Find the largest sum of a contiguous subarray in an array of integers.\n",
        "Input: A list of integers.\n",
        "Output: The maximum sum of the subarray.\n",
        "Hint: Use Kadane’s Algorithm which runs in linear time."
      ],
      "metadata": {
        "id": "x7RjhMsDdXak"
      }
    },
    {
      "cell_type": "code",
      "source": [
        "from typing import List\n",
        "\n",
        "def max_subarray_sum(nums: List[int]) -> int:\n",
        "    \"\"\"\n",
        "    Finds the maximum sum of a contiguous subarray using Kadane's Algorithm.\n",
        "\n",
        "    :param nums: List of integers.\n",
        "    :return: The maximum sum of the contiguous subarray.\n",
        "    \"\"\"\n",
        "    max_sum = float('-inf')  # Stores the maximum sum found\n",
        "    current_sum = 0  # Tracks current subarray sum\n",
        "\n",
        "    for num in nums:\n",
        "        current_sum = max(num, current_sum + num)  # Either extend subarray or start new\n",
        "        max_sum = max(max_sum, current_sum)  # Update global max if needed\n",
        "\n",
        "    return max_sum\n",
        "\n",
        "# Example Usage:\n",
        "nums = [-2, 1, -3, 4, -1, 2, 1, -5, 4]\n",
        "print(max_subarray_sum(nums))  # Output: 6 (subarray: [4, -1, 2, 1])\n"
      ],
      "metadata": {
        "id": "jbRurTvJduym"
      },
      "execution_count": null,
      "outputs": []
    },
    {
      "cell_type": "markdown",
      "source": [
        "46. Word Ladder Problem\n",
        "Objective: Given two words, find the shortest transformation sequence from the start\n",
        "word to the end word, changing only one letter at a time.\n",
        "Input: Two words and a dictionary of words.\n",
        "Output: The length of the shortest transformation sequence.\n",
        "Hint: Use breadth-first search (BFS) and treat each word as a node in a graph.\n"
      ],
      "metadata": {
        "id": "lLEpdnondyr1"
      }
    },
    {
      "cell_type": "code",
      "source": [
        "from collections import deque\n",
        "from typing import List\n",
        "\n",
        "def word_ladder_length(beginWord: str, endWord: str, wordList: List[str]) -> int:\n",
        "    \"\"\"\n",
        "    Finds the shortest transformation sequence length from beginWord to endWord.\n",
        "\n",
        "    :param beginWord: Starting word.\n",
        "    :param endWord: Target word.\n",
        "    :param wordList: List of valid words.\n",
        "    :return: The length of the shortest transformation sequence, or 0 if not possible.\n",
        "    \"\"\"\n",
        "    word_set = set(wordList)  # Convert list to set for O(1) lookup\n",
        "    if endWord not in word_set:\n",
        "        return 0  # If endWord is not in the dictionary, transformation is impossible\n",
        "\n",
        "    queue = deque([(beginWord, 1)])  # Queue holds (current_word, transformation_steps)\n",
        "\n",
        "    while queue:\n",
        "        current_word, steps = queue.popleft()\n",
        "\n",
        "        if current_word == endWord:\n",
        "            return steps  # Reached the target word\n",
        "\n",
        "        # Generate all possible one-letter transformations\n",
        "        for i in range(len(current_word)):\n",
        "            for c in 'abcdefghijklmnopqrstuvwxyz':  # Try replacing each letter\n",
        "                transformed_word = current_word[:i] + c + current_word[i+1:]\n",
        "\n",
        "                if transformed_word in word_set:  # If valid transformation\n",
        "                    queue.append((transformed_word, steps + 1))\n",
        "                    word_set.remove(transformed_word)  # Mark as visited\n",
        "\n",
        "    return 0  # No valid transformation sequence found\n",
        "\n",
        "# Example Usage:\n",
        "begin = \"hit\"\n",
        "end = \"cog\"\n",
        "word_list = [\"hot\", \"dot\", \"dog\", \"lot\", \"log\", \"cog\"]\n",
        "\n",
        "print(word_ladder_length(begin, end, word_list))  # Output: 5\n"
      ],
      "metadata": {
        "id": "XM8EO8p_d5od"
      },
      "execution_count": null,
      "outputs": []
    },
    {
      "cell_type": "markdown",
      "source": [
        "6. Command-Line RPG Game\n",
        "● Description: Design a role-playing game where players explore a text-based world, fight\n",
        "enemies, and collect items to progress.\n",
        "● Challenges:\n",
        "○ Create a dynamic map with different locations and events.\n",
        "○ Implement a combat system with health, attack, and defense stats.\n",
        "○ Save and load game progress.\n",
        "● Skills: Object-oriented programming, file handling, and game mechanics.\n",
        "● Restriction: Text-based interface only (no graphical user interface).\n",
        "● Reason: By limiting the project to a command-line interface, students are forced to\n",
        "focus on game mechanics like combat, item management, and world-building. This\n",
        "helps build logical thinking and complex program structures without the distraction of\n",
        "graphics. The project teaches how to design games that depend entirely on logic and\n",
        "text-based feedback.\n",
        "● Learning Outcome: Students will learn to develop interactive games, utilize\n",
        "object-oriented programming (OOP) for characters and items, and implement game\n",
        "mechanics like turn-based combat and inventory systems."
      ],
      "metadata": {
        "id": "P7GycoONd6HF"
      }
    },
    {
      "cell_type": "code",
      "source": [
        "import json\n",
        "import random\n",
        "from collections import deque\n",
        "\n",
        "# Player Class\n",
        "class Player:\n",
        "    def __init__(self, name):\n",
        "        self.name = name\n",
        "        self.health = 100\n",
        "        self.attack = 10\n",
        "        self.defense = 5\n",
        "        self.inventory = []\n",
        "\n",
        "    def take_damage(self, damage):\n",
        "        actual_damage = max(0, damage - self.defense)\n",
        "        self.health -= actual_damage\n",
        "        return actual_damage\n",
        "\n",
        "    def is_alive(self):\n",
        "        return self.health > 0\n",
        "\n",
        "    def heal(self):\n",
        "        if \"potion\" in self.inventory:\n",
        "            self.health += 20\n",
        "            self.inventory.remove(\"potion\")\n",
        "            print(\"You used a potion! Health restored by 20.\")\n",
        "        else:\n",
        "            print(\"You don't have any potions!\")\n",
        "\n",
        "    def save_game(self):\n",
        "        data = {\n",
        "            \"name\": self.name,\n",
        "            \"health\": self.health,\n",
        "            \"attack\": self.attack,\n",
        "            \"defense\": self.defense,\n",
        "            \"inventory\": self.inventory\n",
        "        }\n",
        "        with open(\"savegame.json\", \"w\") as file:\n",
        "            json.dump(data, file)\n",
        "        print(\"Game Saved!\")\n",
        "\n",
        "    @staticmethod\n",
        "    def load_game():\n",
        "        try:\n",
        "            with open(\"savegame.json\", \"r\") as file:\n",
        "                data = json.load(file)\n",
        "                player = Player(data[\"name\"])\n",
        "                player.health = data[\"health\"]\n",
        "                player.attack = data[\"attack\"]\n",
        "                player.defense = data[\"defense\"]\n",
        "                player.inventory = data[\"inventory\"]\n",
        "                print(\"Game Loaded!\")\n",
        "                return player\n",
        "        except FileNotFoundError:\n",
        "            print(\"No saved game found.\")\n",
        "            return None\n",
        "\n",
        "# Enemy Class\n",
        "class Enemy:\n",
        "    def __init__(self, name, health, attack):\n",
        "        self.name = name\n",
        "        self.health = health\n",
        "        self.attack = attack\n",
        "\n",
        "    def take_damage(self, damage):\n",
        "        self.health -= damage\n",
        "\n",
        "    def is_alive(self):\n",
        "        return self.health > 0\n",
        "\n",
        "# Combat System\n",
        "def battle(player, enemy):\n",
        "    print(f\"\\nA wild {enemy.name} appears!\")\n",
        "\n",
        "    while player.is_alive() and enemy.is_alive():\n",
        "        print(\"\\nYour Health:\", player.health)\n",
        "        print(f\"{enemy.name}'s Health:\", enemy.health)\n",
        "\n",
        "        action = input(\"Choose an action: (A)ttack, (H)eal, (R)un: \").lower()\n",
        "\n",
        "        if action == 'a':\n",
        "            enemy.take_damage(player.attack)\n",
        "            print(f\"You attack {enemy.name} for {player.attack} damage!\")\n",
        "        elif action == 'h':\n",
        "            player.heal()\n",
        "        elif action == 'r':\n",
        "            if random.random() > 0.5:\n",
        "                print(\"You successfully ran away!\")\n",
        "                return\n",
        "            else:\n",
        "                print(\"You failed to escape!\")\n",
        "\n",
        "        if enemy.is_alive():\n",
        "            damage = player.take_damage(enemy.attack)\n",
        "            print(f\"{enemy.name} attacks you for {damage} damage!\")\n",
        "\n",
        "    if player.is_alive():\n",
        "        print(f\"You defeated {enemy.name}!\")\n",
        "        player.inventory.append(\"potion\")\n",
        "        print(\"You found a potion!\")\n",
        "    else:\n",
        "        print(\"You died! Game Over.\")\n",
        "\n",
        "# Exploration System\n",
        "def explore(player):\n",
        "    locations = [\"Dark Forest\", \"Abandoned Castle\", \"Mysterious Cave\"]\n",
        "    while player.is_alive():\n",
        "        print(\"\\nLocations:\", \", \".join(locations))\n",
        "        choice = input(\"Where would you like to go? (Type location name or 'exit' to quit): \").title()\n",
        "\n",
        "        if choice in locations:\n",
        "            enemy = Enemy(random.choice([\"Goblin\", \"Orc\", \"Skeleton\"]), random.randint(20, 50), random.randint(5, 15))\n",
        "            battle(player, enemy)\n",
        "        elif choice == \"Exit\":\n",
        "            player.save_game()\n",
        "            print(\"Thanks for playing!\")\n",
        "            break\n",
        "        else:\n",
        "            print(\"Invalid location!\")\n",
        "\n",
        "# Start the Game\n",
        "def start_game():\n",
        "    print(\"Welcome to the Command-Line RPG!\")\n",
        "    choice = input(\"Do you want to (N)ew Game or (L)oad Game? \").lower()\n",
        "\n",
        "    if choice == 'l':\n",
        "        player = Player.load_game()\n",
        "        if not player:\n",
        "            player = Player(input(\"Enter your name: \"))\n",
        "    else:\n",
        "        player = Player(input(\"Enter your name: \"))\n",
        "\n",
        "    explore(player)\n",
        "\n",
        "if __name__ == \"__main__\":\n",
        "    start_game()\n"
      ],
      "metadata": {
        "colab": {
          "base_uri": "https://localhost:8080/"
        },
        "id": "SUxBLknueIvi",
        "outputId": "5b33a2a3-cbd1-45c0-b6c0-193f218b2df8"
      },
      "execution_count": 11,
      "outputs": [
        {
          "output_type": "stream",
          "name": "stdout",
          "text": [
            "Welcome to the Command-Line RPG!\n",
            "Do you want to (N)ew Game or (L)oad Game? n\n",
            "Enter your name: sasuke\n",
            "\n",
            "Locations: Dark Forest, Abandoned Castle, Mysterious Cave\n",
            "Where would you like to go? (Type location name or 'exit' to quit): Dark Forest\n",
            "\n",
            "A wild Orc appears!\n",
            "\n",
            "Your Health: 100\n",
            "Orc's Health: 46\n",
            "Choose an action: (A)ttack, (H)eal, (R)un: R\n",
            "You successfully ran away!\n",
            "\n",
            "Locations: Dark Forest, Abandoned Castle, Mysterious Cave\n",
            "Where would you like to go? (Type location name or 'exit' to quit): Abandoned Castle\n",
            "\n",
            "A wild Skeleton appears!\n",
            "\n",
            "Your Health: 100\n",
            "Skeleton's Health: 33\n",
            "Choose an action: (A)ttack, (H)eal, (R)un: A\n",
            "You attack Skeleton for 10 damage!\n",
            "Skeleton attacks you for 7 damage!\n",
            "\n",
            "Your Health: 93\n",
            "Skeleton's Health: 23\n",
            "Choose an action: (A)ttack, (H)eal, (R)un: A\n",
            "You attack Skeleton for 10 damage!\n",
            "Skeleton attacks you for 7 damage!\n",
            "\n",
            "Your Health: 86\n",
            "Skeleton's Health: 13\n",
            "Choose an action: (A)ttack, (H)eal, (R)un: A\n",
            "You attack Skeleton for 10 damage!\n",
            "Skeleton attacks you for 7 damage!\n",
            "\n",
            "Your Health: 79\n",
            "Skeleton's Health: 3\n",
            "Choose an action: (A)ttack, (H)eal, (R)un: A\n",
            "You attack Skeleton for 10 damage!\n",
            "You defeated Skeleton!\n",
            "You found a potion!\n",
            "\n",
            "Locations: Dark Forest, Abandoned Castle, Mysterious Cave\n",
            "Where would you like to go? (Type location name or 'exit' to quit): Mysterious Cave\n",
            "\n",
            "A wild Skeleton appears!\n",
            "\n",
            "Your Health: 79\n",
            "Skeleton's Health: 49\n",
            "Choose an action: (A)ttack, (H)eal, (R)un: H\n",
            "You used a potion! Health restored by 20.\n",
            "Skeleton attacks you for 6 damage!\n",
            "\n",
            "Your Health: 93\n",
            "Skeleton's Health: 49\n",
            "Choose an action: (A)ttack, (H)eal, (R)un: H\n",
            "You don't have any potions!\n",
            "Skeleton attacks you for 6 damage!\n",
            "\n",
            "Your Health: 87\n",
            "Skeleton's Health: 49\n",
            "Choose an action: (A)ttack, (H)eal, (R)un: A\n",
            "You attack Skeleton for 10 damage!\n",
            "Skeleton attacks you for 6 damage!\n",
            "\n",
            "Your Health: 81\n",
            "Skeleton's Health: 39\n",
            "Choose an action: (A)ttack, (H)eal, (R)un: R\n",
            "You failed to escape!\n",
            "Skeleton attacks you for 6 damage!\n",
            "\n",
            "Your Health: 75\n",
            "Skeleton's Health: 39\n",
            "Choose an action: (A)ttack, (H)eal, (R)un: R\n",
            "You successfully ran away!\n",
            "\n",
            "Locations: Dark Forest, Abandoned Castle, Mysterious Cave\n",
            "Where would you like to go? (Type location name or 'exit' to quit): exit\n",
            "Game Saved!\n",
            "Thanks for playing!\n"
          ]
        }
      ]
    }
  ]
}