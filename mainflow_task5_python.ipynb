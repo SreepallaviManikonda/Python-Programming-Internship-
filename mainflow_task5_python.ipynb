{
  "nbformat": 4,
  "nbformat_minor": 0,
  "metadata": {
    "colab": {
      "provenance": []
    },
    "kernelspec": {
      "name": "python3",
      "display_name": "Python 3"
    },
    "language_info": {
      "name": "python"
    }
  },
  "cells": [
    {
      "cell_type": "markdown",
      "source": [
        "**WEEK 5 PYTHON PROGRAMMING INTERNSHIP**"
      ],
      "metadata": {
        "id": "OSyQIo3p0s2L"
      }
    },
    {
      "cell_type": "markdown",
      "source": [
        "33. Find All Permutations of a String\n",
        "Objective: Generate all permutations of a given string.\n",
        "Input: A string.\n",
        "Output: List of all permutations.\n",
        "Hint: Use recursion to swap characters or itertools.permutations."
      ],
      "metadata": {
        "id": "UrjYCWhx02xh"
      }
    },
    {
      "cell_type": "code",
      "execution_count": 1,
      "metadata": {
        "colab": {
          "base_uri": "https://localhost:8080/"
        },
        "id": "UnJjmmO40rYI",
        "outputId": "7f72393a-8148-40fc-da5f-d55c23f69215"
      },
      "outputs": [
        {
          "output_type": "stream",
          "name": "stdout",
          "text": [
            "['abc', 'acb', 'bac', 'bca', 'cab', 'cba']\n"
          ]
        }
      ],
      "source": [
        "from itertools import permutations\n",
        "\n",
        "def get_permutations(s):\n",
        "    return [\"\".join(p) for p in permutations(s)]\n",
        "\n",
        "# Example usage:\n",
        "string = \"abc\"\n",
        "print(get_permutations(string))\n"
      ]
    },
    {
      "cell_type": "markdown",
      "source": [
        "34. N-th Fibonacci Number (Dynamic Programming)\n",
        "Objective: Find the nnn-th Fibonacci number using dynamic programming for efficiency.\n",
        "Input: An integer nnn.\n",
        "Output: The nnn-th Fibonacci number.\n",
        "Hint: Use a bottom-up approach with a memoization array."
      ],
      "metadata": {
        "id": "Tic5SduD1act"
      }
    },
    {
      "cell_type": "code",
      "source": [
        "def fibonacci_optimized(n):\n",
        "    if n <= 1:\n",
        "        return n\n",
        "\n",
        "    a, b = 0, 1\n",
        "    for _ in range(2, n + 1):\n",
        "        a, b = b, a + b  # Only store last two values\n",
        "\n",
        "    return b\n",
        "\n",
        "# Example usage:\n",
        "print(fibonacci_optimized(10))  # Output: 55\n"
      ],
      "metadata": {
        "colab": {
          "base_uri": "https://localhost:8080/"
        },
        "id": "Q7y_ocFt1guA",
        "outputId": "b0eeb41b-a90f-4c65-ecb7-cd4baa8a171a"
      },
      "execution_count": 2,
      "outputs": [
        {
          "output_type": "stream",
          "name": "stdout",
          "text": [
            "55\n"
          ]
        }
      ]
    },
    {
      "cell_type": "markdown",
      "source": [
        "35. Find Duplicates in a List\n",
        "Objective: Identify all duplicate elements in a list.\n",
        "Input: A list of integers.\n",
        "Output: A list of duplicate integers.\n",
        "Hint: Use a dictionary or collections.Counter to count occurrences."
      ],
      "metadata": {
        "id": "IxFmfx7u1mFs"
      }
    },
    {
      "cell_type": "code",
      "source": [
        "from collections import Counter\n",
        "\n",
        "def find_duplicates(nums):\n",
        "    counts = Counter(nums)  # Count occurrences of each number\n",
        "    return [num for num, freq in counts.items() if freq > 1]\n",
        "\n",
        "# Example usage:\n",
        "nums = [1, 2, 3, 4, 5, 2, 3, 6, 7, 8, 8]\n",
        "print(find_duplicates(nums))  # Output: [2, 3, 8]\n"
      ],
      "metadata": {
        "colab": {
          "base_uri": "https://localhost:8080/"
        },
        "id": "u9EZhRHv1xMI",
        "outputId": "0d259802-c07f-40dd-e75b-019b046cb9ed"
      },
      "execution_count": 3,
      "outputs": [
        {
          "output_type": "stream",
          "name": "stdout",
          "text": [
            "[2, 3, 8]\n"
          ]
        }
      ]
    },
    {
      "cell_type": "markdown",
      "source": [
        "36. Longest Increasing Subsequence (LIS)\n",
        "Objective: Find the length of the longest increasing subsequence in an array.\n",
        "Input: A list of integers.\n",
        "Output: The length of the LIS.\n",
        "Hint: Use dynamic programming with an auxiliary array to store lengths."
      ],
      "metadata": {
        "id": "l-GtIdSK1xuQ"
      }
    },
    {
      "cell_type": "code",
      "source": [
        "def longest_increasing_subsequence(arr):\n",
        "    if not arr:\n",
        "        return 0\n",
        "\n",
        "    n = len(arr)\n",
        "    dp = [1] * n  # Initialize LIS length for each element as 1\n",
        "\n",
        "    for i in range(1, n):\n",
        "        for j in range(i):\n",
        "            if arr[i] > arr[j]:  # Check increasing condition\n",
        "                dp[i] = max(dp[i], dp[j] + 1)\n",
        "\n",
        "    return max(dp)  # The longest subsequence length\n",
        "\n",
        "# Example usage:\n",
        "nums = [10, 9, 2, 5, 3, 7, 101, 18]\n",
        "print(longest_increasing_subsequence(nums))  # Output: 4 (Sequence: [2, 3, 7, 18])\n"
      ],
      "metadata": {
        "colab": {
          "base_uri": "https://localhost:8080/"
        },
        "id": "fA8spgws1_f_",
        "outputId": "976eb6e5-8ef5-4344-e14d-7e976f4cd51e"
      },
      "execution_count": 4,
      "outputs": [
        {
          "output_type": "stream",
          "name": "stdout",
          "text": [
            "4\n"
          ]
        }
      ]
    },
    {
      "cell_type": "markdown",
      "source": [
        "37. Find K Largest Elements\n",
        "Objective: Find the kkk largest elements in a list.\n",
        "Input: A list of integers and an integer kkk.\n",
        "Output: A list of the kkk largest integers.\n",
        "Hint: Use a heap or sort the array and select the last kkk elements."
      ],
      "metadata": {
        "id": "vIQtKHTE1_4c"
      }
    },
    {
      "cell_type": "code",
      "source": [
        "import heapq\n",
        "\n",
        "def k_largest_elements_heap(arr, k):\n",
        "    return heapq.nlargest(k, arr)  # Uses a min-heap internally\n",
        "\n",
        "# Example usage:\n",
        "nums = [10, 4, 3, 9, 15, 20, 7]\n",
        "k = 3\n",
        "print(k_largest_elements_heap(nums, k))  # Output: [20, 15, 10]\n"
      ],
      "metadata": {
        "colab": {
          "base_uri": "https://localhost:8080/"
        },
        "id": "URu3PsOP2Lne",
        "outputId": "ff3b3474-c925-4418-b9d3-6ffb5c10286a"
      },
      "execution_count": 5,
      "outputs": [
        {
          "output_type": "stream",
          "name": "stdout",
          "text": [
            "[20, 15, 10]\n"
          ]
        }
      ]
    },
    {
      "cell_type": "markdown",
      "source": [
        "38. Rotate Matrix\n",
        "Objective: Rotate a matrix 90 degrees clockwise.\n",
        "Input: A 2D list (matrix).\n",
        "Output: The rotated matrix.\n",
        "Hint: Transpose the matrix and then reverse rows."
      ],
      "metadata": {
        "id": "DGtBKnwJ2MEP"
      }
    },
    {
      "cell_type": "code",
      "source": [
        "def rotate_matrix_90(matrix):\n",
        "    n = len(matrix)\n",
        "\n",
        "    # Step 1: Transpose the matrix\n",
        "    for i in range(n):\n",
        "        for j in range(i+1, n):\n",
        "            matrix[i][j], matrix[j][i] = matrix[j][i], matrix[i][j]  # Swap elements\n",
        "\n",
        "    # Step 2: Reverse each row\n",
        "    for row in matrix:\n",
        "        row.reverse()\n",
        "\n",
        "    return matrix\n",
        "\n",
        "# Example usage:\n",
        "matrix = [\n",
        "    [1, 2, 3],\n",
        "    [4, 5, 6],\n",
        "    [7, 8, 9]\n",
        "]\n",
        "\n",
        "rotated_matrix = rotate_matrix_90(matrix)\n",
        "for row in rotated_matrix:\n",
        "    print(row)\n"
      ],
      "metadata": {
        "colab": {
          "base_uri": "https://localhost:8080/"
        },
        "id": "ggxtlWdz2X0a",
        "outputId": "85820898-d800-4613-a084-1ad6260d4d1c"
      },
      "execution_count": 6,
      "outputs": [
        {
          "output_type": "stream",
          "name": "stdout",
          "text": [
            "[7, 4, 1]\n",
            "[8, 5, 2]\n",
            "[9, 6, 3]\n"
          ]
        }
      ]
    },
    {
      "cell_type": "markdown",
      "source": [
        "39. Sudoku Validator\n",
        "Objective: Validate whether a given Sudoku board configuration is valid.\n",
        "Input: A 9x9 2D list representing a Sudoku board.\n",
        "Output: True if valid, otherwise False.\n",
        "Hint: Check rows, columns, and 3×33 \\times 33×3 grids for duplicates."
      ],
      "metadata": {
        "id": "1vrqSRaF2Ygz"
      }
    },
    {
      "cell_type": "code",
      "source": [
        "def is_valid_sudoku(board):\n",
        "    rows = [set() for _ in range(9)]\n",
        "    cols = [set() for _ in range(9)]\n",
        "    boxes = [set() for _ in range(9)]\n",
        "\n",
        "    for i in range(9):\n",
        "        for j in range(9):\n",
        "            num = board[i][j]\n",
        "            if num == \".\":\n",
        "                continue  # Skip empty cells\n",
        "\n",
        "            box_index = (i // 3) * 3 + (j // 3)\n",
        "\n",
        "            # Check row, column, and 3x3 box\n",
        "            if num in rows[i] or num in cols[j] or num in boxes[box_index]:\n",
        "                return False  # Duplicate found\n",
        "\n",
        "            rows[i].add(num)\n",
        "            cols[j].add(num)\n",
        "            boxes[box_index].add(num)\n",
        "\n",
        "    return True  # All checks passed\n",
        "\n",
        "# Example usage:\n",
        "sudoku_board = [\n",
        "    [\"5\", \"3\", \".\", \".\", \"7\", \".\", \".\", \".\", \".\"],\n",
        "    [\"6\", \".\", \".\", \"1\", \"9\", \"5\", \".\", \".\", \".\"],\n",
        "    [\".\", \"9\", \"8\", \".\", \".\", \".\", \".\", \"6\", \".\"],\n",
        "    [\"8\", \".\", \".\", \".\", \"6\", \".\", \".\", \".\", \"3\"],\n",
        "    [\"4\", \".\", \".\", \"8\", \".\", \"3\", \".\", \".\", \"1\"],\n",
        "    [\"7\", \".\", \".\", \".\", \"2\", \".\", \".\", \".\", \"6\"],\n",
        "    [\".\", \"6\", \".\", \".\", \".\", \".\", \"2\", \"8\", \".\"],\n",
        "    [\".\", \".\", \".\", \"4\", \"1\", \"9\", \".\", \".\", \"5\"],\n",
        "    [\".\", \".\", \".\", \".\", \"8\", \".\", \".\", \"7\", \"9\"]\n",
        "]\n",
        "\n",
        "print(is_valid_sudoku(sudoku_board))  # Output: True\n"
      ],
      "metadata": {
        "colab": {
          "base_uri": "https://localhost:8080/"
        },
        "id": "7w3pLI6Y2pFQ",
        "outputId": "b01c46d7-17a0-4ea6-f78e-f855e8215fab"
      },
      "execution_count": 7,
      "outputs": [
        {
          "output_type": "stream",
          "name": "stdout",
          "text": [
            "True\n"
          ]
        }
      ]
    },
    {
      "cell_type": "markdown",
      "source": [
        "5. Virtual Stock Market Simulator\n",
        "● Description: Create a stock market simulation where users can buy, sell, and track\n",
        "virtual stocks based on random price fluctuations.\n",
        "● Challenges:\n",
        "○ Implement a system for price changes based on random or predefined patterns.\n",
        "○ Keep track of users’ portfolios and transactions.\n",
        "○ Introduce advanced features like market trends or risk analysis.\n",
        "● Skills: Data structures, random number generation, and business logic.\n",
        "● Restriction: No real-time stock data access or APIs.\n",
        "● Reason: The goal is to simulate stock market behavior without depending on actual\n",
        "market data. Students will create algorithms to model stock price changes based on\n",
        "random fluctuations or predefined trends. This teaches how to simulate systems that\n",
        "behave like real-world systems (stocks in this case) and how to handle financial\n",
        "modeling without relying on external data.\n",
        "● Learning Outcome: Students will learn how to simulate complex systems, work with\n",
        "financial concepts, and understand the fundamentals of market behavior and how to\n",
        "track and predict stock changes.\n"
      ],
      "metadata": {
        "id": "SmdwsssR2p7_"
      }
    },
    {
      "cell_type": "code",
      "source": [
        "import random\n",
        "import time\n",
        "\n",
        "class StockMarketSimulator:\n",
        "    def __init__(self):\n",
        "        self.stocks = {\"RELIANCE\": 2500, \"TCS\": 3600, \"INFY\": 1600, \"HDFCBANK\": 1500}\n",
        "        self.user_balance = 100000  # Starting balance in INR\n",
        "        self.portfolio = {}  # Tracks user's stock holdings\n",
        "\n",
        "    def update_stock_prices(self):\n",
        "        \"\"\"Simulate stock price fluctuations.\"\"\"\n",
        "        for stock in self.stocks:\n",
        "            change = round(random.uniform(-5, 5), 2)  # Random change between -5% to +5%\n",
        "            self.stocks[stock] = round(self.stocks[stock] * (1 + change / 100), 2)\n",
        "\n",
        "    def display_market(self):\n",
        "        \"\"\"Show current stock prices.\"\"\"\n",
        "        print(\"\\n📈 Indian Stock Market Prices 📉\")\n",
        "        for stock, price in self.stocks.items():\n",
        "            print(f\"{stock}: ₹{price}\")\n",
        "\n",
        "    def buy_stock(self, stock, quantity):\n",
        "        \"\"\"Allow user to buy stock if they have enough balance.\"\"\"\n",
        "        if stock not in self.stocks:\n",
        "            print(\"❌ Invalid stock symbol.\")\n",
        "            return\n",
        "\n",
        "        total_cost = self.stocks[stock] * quantity\n",
        "        if total_cost > self.user_balance:\n",
        "            print(\"❌ Not enough balance!\")\n",
        "            return\n",
        "\n",
        "        self.user_balance -= total_cost\n",
        "        self.portfolio[stock] = self.portfolio.get(stock, 0) + quantity\n",
        "        print(f\"✅ Bought {quantity} shares of {stock} at ₹{self.stocks[stock]} each.\")\n",
        "\n",
        "    def sell_stock(self, stock, quantity):\n",
        "        \"\"\"Allow user to sell stock if they own it.\"\"\"\n",
        "        if stock not in self.portfolio or self.portfolio[stock] < quantity:\n",
        "            print(\"❌ You don't own enough shares!\")\n",
        "            return\n",
        "\n",
        "        self.user_balance += self.stocks[stock] * quantity\n",
        "        self.portfolio[stock] -= quantity\n",
        "        if self.portfolio[stock] == 0:\n",
        "            del self.portfolio[stock]\n",
        "\n",
        "        print(f\"✅ Sold {quantity} shares of {stock} at ₹{self.stocks[stock]} each.\")\n",
        "\n",
        "    def display_portfolio(self):\n",
        "        \"\"\"Show user holdings and balance.\"\"\"\n",
        "        print(\"\\n💼 Your Portfolio 💰\")\n",
        "        print(f\"Balance: ₹{self.user_balance:.2f}\")\n",
        "        for stock, quantity in self.portfolio.items():\n",
        "            print(f\"{stock}: {quantity} shares\")\n",
        "\n",
        "    def run_simulation(self):\n",
        "        \"\"\"Run the stock market simulator.\"\"\"\n",
        "        while True:\n",
        "            self.update_stock_prices()\n",
        "            self.display_market()\n",
        "            self.display_portfolio()\n",
        "\n",
        "            action = input(\"\\nEnter action (buy/sell/view/exit): \").strip().lower()\n",
        "            if action == \"buy\":\n",
        "                stock = input(\"Enter stock symbol: \").upper()\n",
        "                quantity = int(input(\"Enter quantity: \"))\n",
        "                self.buy_stock(stock, quantity)\n",
        "            elif action == \"sell\":\n",
        "                stock = input(\"Enter stock symbol: \").upper()\n",
        "                quantity = int(input(\"Enter quantity: \"))\n",
        "                self.sell_stock(stock, quantity)\n",
        "            elif action == \"view\":\n",
        "                self.display_portfolio()\n",
        "            elif action == \"exit\":\n",
        "                print(\"Exiting simulator. 📉📊\")\n",
        "                break\n",
        "            else:\n",
        "                print(\"❌ Invalid action.\")\n",
        "\n",
        "            time.sleep(2)  # Simulate real-time updates\n",
        "\n",
        "# Run the simulator in INR\n",
        "market = StockMarketSimulator()\n",
        "market.run_simulation()\n"
      ],
      "metadata": {
        "colab": {
          "base_uri": "https://localhost:8080/"
        },
        "id": "qxc6qens3fyK",
        "outputId": "c5e2d622-02c1-4736-b746-35ae1886433d"
      },
      "execution_count": 9,
      "outputs": [
        {
          "output_type": "stream",
          "name": "stdout",
          "text": [
            "\n",
            "📈 Indian Stock Market Prices 📉\n",
            "RELIANCE: ₹2533.5\n",
            "TCS: ₹3423.24\n",
            "INFY: ₹1544.64\n",
            "HDFCBANK: ₹1479.15\n",
            "\n",
            "💼 Your Portfolio 💰\n",
            "Balance: ₹100000.00\n",
            "\n",
            "Enter action (buy/sell/view/exit): sell\n",
            "Enter stock symbol: TCS\n",
            "Enter quantity: 20\n",
            "❌ You don't own enough shares!\n",
            "\n",
            "📈 Indian Stock Market Prices 📉\n",
            "RELIANCE: ₹2645.48\n",
            "TCS: ₹3313.35\n",
            "INFY: ₹1486.1\n",
            "HDFCBANK: ₹1490.1\n",
            "\n",
            "💼 Your Portfolio 💰\n",
            "Balance: ₹100000.00\n",
            "\n",
            "Enter action (buy/sell/view/exit): buy\n",
            "Enter stock symbol: TCS\n",
            "Enter quantity: 20\n",
            "✅ Bought 20 shares of TCS at ₹3313.35 each.\n",
            "\n",
            "📈 Indian Stock Market Prices 📉\n",
            "RELIANCE: ₹2669.02\n",
            "TCS: ₹3262.66\n",
            "INFY: ₹1425.02\n",
            "HDFCBANK: ₹1429.75\n",
            "\n",
            "💼 Your Portfolio 💰\n",
            "Balance: ₹33733.00\n",
            "TCS: 20 shares\n",
            "\n",
            "Enter action (buy/sell/view/exit): buy\n",
            "Enter stock symbol: INFY\n",
            "Enter quantity: 10\n",
            "✅ Bought 10 shares of INFY at ₹1425.02 each.\n",
            "\n",
            "📈 Indian Stock Market Prices 📉\n",
            "RELIANCE: ₹2606.03\n",
            "TCS: ₹3236.88\n",
            "INFY: ₹1378.85\n",
            "HDFCBANK: ₹1444.48\n",
            "\n",
            "💼 Your Portfolio 💰\n",
            "Balance: ₹19482.80\n",
            "TCS: 20 shares\n",
            "INFY: 10 shares\n",
            "\n",
            "Enter action (buy/sell/view/exit): view\n",
            "\n",
            "💼 Your Portfolio 💰\n",
            "Balance: ₹19482.80\n",
            "TCS: 20 shares\n",
            "INFY: 10 shares\n",
            "\n",
            "📈 Indian Stock Market Prices 📉\n",
            "RELIANCE: ₹2594.04\n",
            "TCS: ₹3192.53\n",
            "INFY: ₹1388.78\n",
            "HDFCBANK: ₹1478.43\n",
            "\n",
            "💼 Your Portfolio 💰\n",
            "Balance: ₹19482.80\n",
            "TCS: 20 shares\n",
            "INFY: 10 shares\n",
            "\n",
            "Enter action (buy/sell/view/exit): sell\n",
            "Enter stock symbol: TCS\n",
            "Enter quantity: 10\n",
            "✅ Sold 10 shares of TCS at ₹3192.53 each.\n",
            "\n",
            "📈 Indian Stock Market Prices 📉\n",
            "RELIANCE: ₹2506.88\n",
            "TCS: ₹3256.7\n",
            "INFY: ₹1409.06\n",
            "HDFCBANK: ₹1409.83\n",
            "\n",
            "💼 Your Portfolio 💰\n",
            "Balance: ₹51408.10\n",
            "TCS: 10 shares\n",
            "INFY: 10 shares\n",
            "\n",
            "Enter action (buy/sell/view/exit): exit\n",
            "Exiting simulator. 📉📊\n"
          ]
        }
      ]
    }
  ]
}