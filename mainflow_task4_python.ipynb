{
  "nbformat": 4,
  "nbformat_minor": 0,
  "metadata": {
    "colab": {
      "provenance": []
    },
    "kernelspec": {
      "name": "python3",
      "display_name": "Python 3"
    },
    "language_info": {
      "name": "python"
    }
  },
  "cells": [
    {
      "cell_type": "markdown",
      "source": [
        "**WEEK 4 PYTHON PROGRAMMING INTERNSHIP MAIN FLOW**"
      ],
      "metadata": {
        "id": "8V9bruCEY4jW"
      }
    },
    {
      "cell_type": "markdown",
      "source": [
        " 25. Find Missing Number\n",
        " Objective: Find the missing number in an array of size nnn, containing numbers 111 to\n",
        " n+1n+1n+1.\n",
        " Input: A list of integers.\n",
        " Output: The missing integer.\n",
        " Hint: Use the sum formula Sum(n)=n(n+1)2\\text{Sum}(n) =\n",
        " \\frac{n(n+1)}{2}Sum(n)=2n(n+1) and subtract the sum of given numbers"
      ],
      "metadata": {
        "id": "YHFdYIm6Y5xu"
      }
    },
    {
      "cell_type": "code",
      "execution_count": 1,
      "metadata": {
        "colab": {
          "base_uri": "https://localhost:8080/"
        },
        "id": "TPlnRSShYbDp",
        "outputId": "d0983cde-d56f-49c9-a9d7-91fb690ed0e7"
      },
      "outputs": [
        {
          "output_type": "stream",
          "name": "stdout",
          "text": [
            "3\n"
          ]
        }
      ],
      "source": [
        "def find_missing_number(arr):\n",
        "    n = len(arr) + 1\n",
        "    expected_sum = n * (n + 1) // 2\n",
        "    actual_sum = sum(arr)\n",
        "    return expected_sum - actual_sum\n",
        "\n",
        "# Example usage:\n",
        "arr = [1, 2, 4, 5, 6]  # Missing number is 3\n",
        "print(find_missing_number(arr))  # Output: 3\n"
      ]
    },
    {
      "cell_type": "markdown",
      "source": [
        "26. Check Balanced Parentheses\n",
        " Objective: Check if a string of parentheses ((), {}, []) is balanced.\n",
        " Input: A string of parentheses.\n",
        " Output: True if balanced, otherwise False.\n",
        " Hint: Use a stack to match opening and closing parentheses."
      ],
      "metadata": {
        "id": "e4By22qGZaAK"
      }
    },
    {
      "cell_type": "code",
      "source": [
        "def is_balanced(s):\n",
        "    stack = []\n",
        "    mapping = {')': '(', '}': '{', ']': '['}\n",
        "\n",
        "    for char in s:\n",
        "        if char in mapping.values():  # If it's an opening bracket, push to stack\n",
        "            stack.append(char)\n",
        "        elif char in mapping:  # If it's a closing bracket\n",
        "            if not stack or stack.pop() != mapping[char]:\n",
        "                return False\n",
        "\n",
        "    return not stack  # Stack should be empty if balanced\n",
        "\n",
        "# Example usage:\n",
        "print(is_balanced(\"(){}[]\"))  # True\n",
        "print(is_balanced(\"({[)]}\"))  # False\n",
        "print(is_balanced(\"{[()]}\"))  # True\n"
      ],
      "metadata": {
        "colab": {
          "base_uri": "https://localhost:8080/"
        },
        "id": "icCgeWbqZ-pF",
        "outputId": "b0be92b1-f935-44f8-9fac-aa754f0d760a"
      },
      "execution_count": 2,
      "outputs": [
        {
          "output_type": "stream",
          "name": "stdout",
          "text": [
            "True\n",
            "False\n",
            "True\n"
          ]
        }
      ]
    },
    {
      "cell_type": "markdown",
      "source": [
        "27. Longest Word in a Sentence\n",
        " Objective: Find the longest word in a given sentence.\n",
        " Input: A string (sentence).\n",
        " Output: The longest word.\n",
        " Hint: Split the string into words and compare lengths"
      ],
      "metadata": {
        "id": "SXbLdKH_bEsf"
      }
    },
    {
      "cell_type": "code",
      "source": [
        "def longest_word(sentence):\n",
        "    words = sentence.split()  # Split the sentence into words\n",
        "    return max(words, key=len) if words else \"\"  # Find the longest word\n",
        "\n",
        "# Example usage:\n",
        "sentence = \"The quick brown fox jumps over the lazy dog\"\n",
        "print(longest_word(sentence))  # Output: \"jumps\"\n"
      ],
      "metadata": {
        "colab": {
          "base_uri": "https://localhost:8080/"
        },
        "id": "KcxrqY1tbQBH",
        "outputId": "23d1bc36-583b-4ed9-cdf4-4d566b9f8f5f"
      },
      "execution_count": 3,
      "outputs": [
        {
          "output_type": "stream",
          "name": "stdout",
          "text": [
            "quick\n"
          ]
        }
      ]
    },
    {
      "cell_type": "markdown",
      "source": [
        " 28. Count Words in a Sentence\n",
        " Objective: Count the number of words in a sentence.\n",
        " Input: A string (sentence).\n",
        " Output: Integer representing the word count.\n",
        " Hint: Use the split() method to divide the string by spaces and count elements"
      ],
      "metadata": {
        "id": "CdMAhwudbVnN"
      }
    },
    {
      "cell_type": "code",
      "source": [
        "def count_words(sentence):\n",
        "    return len(sentence.split())\n",
        "\n",
        "# Example usage:\n",
        "sentence = \"The quick brown fox jumps over the lazy dog\"\n",
        "print(count_words(sentence))  # Output: 9\n"
      ],
      "metadata": {
        "colab": {
          "base_uri": "https://localhost:8080/"
        },
        "id": "xbisuB6bbcFQ",
        "outputId": "c8762b06-f636-4c0b-eabe-48aa33394da7"
      },
      "execution_count": 4,
      "outputs": [
        {
          "output_type": "stream",
          "name": "stdout",
          "text": [
            "9\n"
          ]
        }
      ]
    },
    {
      "cell_type": "markdown",
      "source": [
        "29. Check Pythagorean Triplet\n",
        " Objective: Determine if three numbers form a Pythagorean triplet (e.g., a2+b2=c2a^2 +\n",
        " b^2 = c^2a2+b2=c2).\n",
        " Input: Three integers aaa, bbb, ccc\n",
        "Output: True if they form a triplet, otherwise False.\n",
        " Hint: Ensure ccc is the largest, then verify the equation."
      ],
      "metadata": {
        "id": "mSH52Y1fbszR"
      }
    },
    {
      "cell_type": "code",
      "source": [
        "def is_pythagorean_triplet(a, b, c):\n",
        "    # Sort numbers to ensure c is the largest\n",
        "    a, b, c = sorted([a, b, c])\n",
        "    return a**2 + b**2 == c**2\n",
        "\n",
        "# Example usage:\n",
        "print(is_pythagorean_triplet(3, 4, 5))  # True\n",
        "print(is_pythagorean_triplet(5, 12, 13))  # True\n",
        "print(is_pythagorean_triplet(1, 2, 3))  # False\n"
      ],
      "metadata": {
        "colab": {
          "base_uri": "https://localhost:8080/"
        },
        "id": "4y6lclyfbxwW",
        "outputId": "80f5cf86-8222-4fbe-d398-642e20b58c09"
      },
      "execution_count": 5,
      "outputs": [
        {
          "output_type": "stream",
          "name": "stdout",
          "text": [
            "True\n",
            "True\n",
            "False\n"
          ]
        }
      ]
    },
    {
      "cell_type": "markdown",
      "source": [
        " 30. Bubble Sort\n",
        " Objective: Implement the bubble sort algorithm to sort a list of integers.\n",
        " Input: A list of integers.\n",
        " Output: Sorted list in ascending order.\n",
        " Hint: Repeatedly swap adjacent elements if they are in the wrong order"
      ],
      "metadata": {
        "id": "gaTiY3csb5ia"
      }
    },
    {
      "cell_type": "code",
      "source": [
        "def bubble_sort(arr):\n",
        "    n = len(arr)\n",
        "    for i in range(n):\n",
        "        swapped = False  # Optimization to stop if already sorted\n",
        "        for j in range(n - i - 1):\n",
        "            if arr[j] > arr[j + 1]:  # Swap if elements are in the wrong order\n",
        "                arr[j], arr[j + 1] = arr[j + 1], arr[j]\n",
        "                swapped = True\n",
        "        if not swapped:  # If no swaps happened, array is already sorted\n",
        "            break\n",
        "    return arr\n",
        "\n",
        "# Example usage:\n",
        "arr = [64, 34, 25, 12, 22, 11, 90]\n",
        "print(bubble_sort(arr))  # Output: [11, 12, 22, 25, 34, 64, 90]\n"
      ],
      "metadata": {
        "colab": {
          "base_uri": "https://localhost:8080/"
        },
        "id": "aXzYt_fvcCCM",
        "outputId": "32a5ec68-2c85-45bb-9b82-600472c54dd9"
      },
      "execution_count": 6,
      "outputs": [
        {
          "output_type": "stream",
          "name": "stdout",
          "text": [
            "[11, 12, 22, 25, 34, 64, 90]\n"
          ]
        }
      ]
    },
    {
      "cell_type": "markdown",
      "source": [
        " 31. Binary Search\n",
        " Objective: Implement the binary search algorithm to find a target in a sorted array.\n",
        " Input: A sorted list of integers and a target integer.\n",
        " Output: The index of the target or-1 if not found.\n",
        " Hint: Use a divide-and-conquer approach by checking the middle element"
      ],
      "metadata": {
        "id": "cTE58sA7cGYI"
      }
    },
    {
      "cell_type": "code",
      "source": [
        "def binary_search_recursive(arr, left, right, target):\n",
        "    if left > right:\n",
        "        return -1  # Target not found\n",
        "\n",
        "    mid = (left + right) // 2\n",
        "\n",
        "    if arr[mid] == target:\n",
        "        return mid\n",
        "    elif arr[mid] < target:\n",
        "        return binary_search_recursive(arr, mid + 1, right, target)  # Search right half\n",
        "    else:\n",
        "        return binary_search_recursive(arr, left, mid - 1, target)  # Search left half\n",
        "\n",
        "# Example usage:\n",
        "arr = [1, 3, 5, 7, 9, 11]\n",
        "target = 7\n",
        "print(binary_search_recursive(arr, 0, len(arr) - 1, target))  # Output: 3\n"
      ],
      "metadata": {
        "colab": {
          "base_uri": "https://localhost:8080/"
        },
        "id": "S5D9zDWixTzp",
        "outputId": "f16275fe-fdba-4242-c3f2-a21a549c920f"
      },
      "execution_count": 1,
      "outputs": [
        {
          "output_type": "stream",
          "name": "stdout",
          "text": [
            "3\n"
          ]
        }
      ]
    },
    {
      "cell_type": "markdown",
      "source": [
        " 32. Find Subarray with Given Sum\n",
        " Objective: Find a contiguous subarray whose sum equals a given value SSS.\n",
        " Input: A list of integers and an integer SSS.\n",
        " Output: The indices of the subarray or-1 if no such subarray exists.\n",
        " Hint: Use the sliding window technique or prefix sums"
      ],
      "metadata": {
        "id": "PbRwdP4rxmvU"
      }
    },
    {
      "cell_type": "code",
      "source": [
        "def find_subarray_with_sum_hash(arr, target):\n",
        "    prefix_sum = {0: -1}  # To handle subarray starting from index 0\n",
        "    current_sum = 0\n",
        "\n",
        "    for i, num in enumerate(arr):\n",
        "        current_sum += num\n",
        "        if (current_sum - target) in prefix_sum:\n",
        "            return (prefix_sum[current_sum - target] + 1, i)  # Found the subarray\n",
        "        prefix_sum[current_sum] = i  # Store the prefix sum\n",
        "\n",
        "    return -1  # No subarray found\n",
        "\n",
        "# Example usage:\n",
        "arr = [10, 2, -2, -20, 10]\n",
        "target = -10\n",
        "print(find_subarray_with_sum_hash(arr, target))  # Output: (1, 4) -> Subarray [2, -2, -20, 10]\n"
      ],
      "metadata": {
        "colab": {
          "base_uri": "https://localhost:8080/"
        },
        "id": "fd5jHN9vxsTT",
        "outputId": "a43d060b-1446-480b-c618-5ff2131059f0"
      },
      "execution_count": 2,
      "outputs": [
        {
          "output_type": "stream",
          "name": "stdout",
          "text": [
            "(0, 3)\n"
          ]
        }
      ]
    },
    {
      "cell_type": "markdown",
      "source": [
        " 4. Log Analysis System\n",
        " ● Description: Write a program to parse large log files (e.g., web server logs) and extract\n",
        " insights like the most frequent IP addresses, response codes, or URLs accessed.\n",
        " ● Challenges:\n",
        " ○ Efficiently process large text files.\n",
        " ○ Handle various formats and error cases in logs.\n",
        " ○ Summarize and display data meaningfully.\n",
        " ● Skills: File I/O, data parsing, and data aggregation\n",
        "  ● Restriction: File size must be limited to 100 MB for log files.\n",
        " ● Reason:Log analysis is important for many real-world applications, but dealing with\n",
        " large datasets can become cumbersome. Limiting file size helps students focus on data\n",
        " parsing and insight extraction, allowing them to develop efficient file handling techniques\n",
        " without being overwhelmed. It also simulates real-world constraints like processing time\n",
        " and memory limits.\n",
        " ● Learning Outcome: Students will learn how to efficiently process large datasets, extract\n",
        " meaningful insights, and handle file-based data using basic algorithms and data\n",
        " structures like dictionaries and lists."
      ],
      "metadata": {
        "id": "C_HRA60jxxQN"
      }
    },
    {
      "cell_type": "code",
      "source": [
        "import re\n",
        "from collections import Counter\n",
        "\n",
        "def parse_log_file(file_path):\n",
        "    ip_counts = Counter()\n",
        "    response_code_counts = Counter()\n",
        "    url_counts = Counter()\n",
        "\n",
        "    log_pattern = re.compile(r'(\\d+\\.\\d+\\.\\d+\\.\\d+) - - \\[.*?\\] \".*? (.*?) .*?\" (\\d+)')\n",
        "\n",
        "    try:\n",
        "        with open(file_path, 'r', encoding='utf-8') as file:\n",
        "            for line in file:\n",
        "                match = log_pattern.search(line)\n",
        "                if match:\n",
        "                    ip, url, response_code = match.groups()\n",
        "                    ip_counts[ip] += 1\n",
        "                    response_code_counts[response_code] += 1\n",
        "                    url_counts[url] += 1\n",
        "\n",
        "        print(\"\\n🔹 Most Frequent IP Addresses:\")\n",
        "        for ip, count in ip_counts.most_common(5):\n",
        "            print(f\"{ip}: {count} times\")\n",
        "\n",
        "        print(\"\\n🔹 HTTP Response Codes Count:\")\n",
        "        for code, count in response_code_counts.items():\n",
        "            print(f\"{code}: {count}\")\n",
        "\n",
        "        print(\"\\n🔹 Most Accessed URLs:\")\n",
        "        for url, count in url_counts.most_common(5):\n",
        "            print(f\"{url}: {count} times\")\n",
        "\n",
        "    except FileNotFoundError:\n",
        "        print(\"Error: Log file not found.\")\n",
        "    except Exception as e:\n",
        "        print(f\"Error processing log file: {e}\")\n",
        "\n",
        "# Example usage:\n",
        "file_path = \"server.log\"  # Replace with the actual log file path\n",
        "parse_log_file(file_path)\n"
      ],
      "metadata": {
        "colab": {
          "base_uri": "https://localhost:8080/"
        },
        "id": "XSv1VvhFxyqr",
        "outputId": "7404a73d-890f-4e95-e4b2-f769c5e76061"
      },
      "execution_count": 3,
      "outputs": [
        {
          "output_type": "stream",
          "name": "stdout",
          "text": [
            "Error: Log file not found.\n"
          ]
        }
      ]
    }
  ]
}