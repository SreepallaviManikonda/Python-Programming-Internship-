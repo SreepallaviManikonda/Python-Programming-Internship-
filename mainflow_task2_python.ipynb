{
  "nbformat": 4,
  "nbformat_minor": 0,
  "metadata": {
    "colab": {
      "provenance": []
    },
    "kernelspec": {
      "name": "python3",
      "display_name": "Python 3"
    },
    "language_info": {
      "name": "python"
    }
  },
  "cells": [
    {
      "cell_type": "markdown",
      "source": [
        "MAINFLOW INTERNSHIP : PYTHON PROGRAMMING **TASK 2 **"
      ],
      "metadata": {
        "id": "sZemty_Esodl"
      }
    },
    {
      "cell_type": "markdown",
      "source": [
        "Prime Number\n",
        " Objective: Determine if a number is prime.\n",
        " Input: A single integer nnn.\n",
        " Output: True if prime, otherwise False.\n",
        " Hint: A prime number has no divisors other than 1 and itself; check divisors up to\n",
        " n\\sqrt{n}n"
      ],
      "metadata": {
        "id": "gDPUiFsZse3L"
      }
    },
    {
      "cell_type": "code",
      "execution_count": 2,
      "metadata": {
        "colab": {
          "base_uri": "https://localhost:8080/"
        },
        "id": "Ais6gTD9sb2h",
        "outputId": "2f29a016-72c2-42eb-d76a-67424361a076"
      },
      "outputs": [
        {
          "output_type": "stream",
          "name": "stdout",
          "text": [
            "Enter a number: 6\n",
            "False\n"
          ]
        }
      ],
      "source": [
        "import math\n",
        "\n",
        "def is_prime(n):\n",
        "    if n < 2:\n",
        "        return False\n",
        "    for i in range(2, int(math.sqrt(n)) + 1):\n",
        "        if n % i == 0:\n",
        "            return False\n",
        "    return True\n",
        "\n",
        "# Example usage\n",
        "num = int(input(\"Enter a number: \"))\n",
        "print(is_prime(num))\n"
      ]
    },
    {
      "cell_type": "markdown",
      "source": [
        "10. Sum of Digits\n",
        " Objective: Find the sum of the digits in a number.\n",
        " Input: An integer nnn.\n",
        " Output: Single integer, the sum of digits.\n",
        " Hint: Convert the number to a string, iterate through characters, and sum up the digits"
      ],
      "metadata": {
        "id": "TWiD3nYksdH5"
      }
    },
    {
      "cell_type": "code",
      "source": [
        "def sum_of_digits(n):\n",
        "    return sum(int(digit) for digit in str(abs(n)))\n",
        "\n",
        "# Example usage\n",
        "num = int(input(\"Enter a number: \"))\n",
        "print(sum_of_digits(num))\n"
      ],
      "metadata": {
        "colab": {
          "base_uri": "https://localhost:8080/"
        },
        "id": "UIIpUJuMtZu9",
        "outputId": "1f2a0ee2-c23a-44c4-b989-ba4f54959c32"
      },
      "execution_count": 3,
      "outputs": [
        {
          "output_type": "stream",
          "name": "stdout",
          "text": [
            "Enter a number: 531\n",
            "9\n"
          ]
        }
      ]
    },
    {
      "cell_type": "markdown",
      "source": [
        " 11. LCM and GCD\n",
        " Objective: Calculate the Least Common Multiple (LCM) and Greatest Common Divisor\n",
        " (GCD) of two integers.\n",
        " Input: Two integers aaa and bbb.\n",
        " Output: Two integers: LCM and GCD of aaa and bbb.\n",
        " Hint: Use the relationship LCM(a,b)=∣a⋅b∣GCD(a,b)\\text{LCM}(a, b) = \\frac{|a \\cdot\n",
        " b|}{\\text{GCD}(a, b)}LCM(a,b)=GCD(a,b)∣a⋅b∣ . Python's math.gcd() function can\n",
        " simplify this."
      ],
      "metadata": {
        "id": "lZg9NDixtaua"
      }
    },
    {
      "cell_type": "code",
      "source": [
        "import math\n",
        "\n",
        "def gcd_lcm(a, b):\n",
        "    gcd = math.gcd(a, b)\n",
        "    lcm = abs(a * b) // gcd  # Using LCM(a, b) = |a * b| / GCD(a, b)\n",
        "    return gcd, lcm\n",
        "\n",
        "# Example usage\n",
        "a, b = map(int, input(\"Enter two numbers: \").split())\n",
        "gcd, lcm = gcd_lcm(a, b)\n",
        "print(f\"GCD: {gcd}, LCM: {lcm}\")\n"
      ],
      "metadata": {
        "colab": {
          "base_uri": "https://localhost:8080/"
        },
        "id": "y3hod9fjty6k",
        "outputId": "a1d9b14d-51a3-460b-e1a4-04b314b6b4d4"
      },
      "execution_count": 5,
      "outputs": [
        {
          "output_type": "stream",
          "name": "stdout",
          "text": [
            "Enter two numbers: 3 6\n",
            "GCD: 3, LCM: 6\n"
          ]
        }
      ]
    },
    {
      "cell_type": "markdown",
      "source": [
        "12. List Reversal\n",
        " Objective: Reverse a given list without using built-in functions.\n",
        " Input: A list of integers.\n",
        " Output: Reversed list.\n",
        " Hint: Use a loop to swap elements from start to end or slice the list ([::-1])."
      ],
      "metadata": {
        "id": "gbebGhOOuL-L"
      }
    },
    {
      "cell_type": "code",
      "source": [
        "def reverse_list(lst):\n",
        "    left, right = 0, len(lst) - 1\n",
        "    while left < right:\n",
        "        lst[left], lst[right] = lst[right], lst[left]  # Swap elements\n",
        "        left += 1\n",
        "        right -= 1\n",
        "    return lst\n",
        "\n",
        "# Example usage\n",
        "numbers = list(map(int, input(\"Enter space-separated numbers: \").split()))\n",
        "print(\"Reversed List:\", reverse_list(numbers))\n"
      ],
      "metadata": {
        "colab": {
          "base_uri": "https://localhost:8080/"
        },
        "id": "1cMP0n8TuPCZ",
        "outputId": "df7bf5f0-a097-450e-eec9-a53281034895"
      },
      "execution_count": 6,
      "outputs": [
        {
          "output_type": "stream",
          "name": "stdout",
          "text": [
            "Enter space-separated numbers: 3 4 5 \n",
            "Reversed List: [5, 4, 3]\n"
          ]
        }
      ]
    },
    {
      "cell_type": "markdown",
      "source": [
        "13. Sort a List\n",
        " Objective: Sort a list of numbers in ascending order.\n",
        " Input: A list of integersOutput: A sorted list.\n",
        " Hint: Use sorting algorithms like bubble sort, selection sort, or simply sorted()."
      ],
      "metadata": {
        "id": "16vpXdMSuwLp"
      }
    },
    {
      "cell_type": "code",
      "source": [
        "def bubble_sort(lst):\n",
        "    n = len(lst)\n",
        "    for i in range(n):\n",
        "        for j in range(n - i - 1):\n",
        "            if lst[j] > lst[j + 1]:  # Swap if elements are in the wrong order\n",
        "                lst[j], lst[j + 1] = lst[j + 1], lst[j]\n",
        "    return lst\n",
        "\n",
        "# Example usage\n",
        "numbers = list(map(int, input(\"Enter space-separated numbers: \").split()))\n",
        "print(\"Sorted List:\", bubble_sort(numbers))\n"
      ],
      "metadata": {
        "colab": {
          "base_uri": "https://localhost:8080/"
        },
        "id": "_OKEdLzhu0Tf",
        "outputId": "2c8be8e6-321d-4060-c6ec-374bd548a769"
      },
      "execution_count": 7,
      "outputs": [
        {
          "output_type": "stream",
          "name": "stdout",
          "text": [
            "Enter space-separated numbers: 2 5 4 7 9\n",
            "Sorted List: [2, 4, 5, 7, 9]\n"
          ]
        }
      ]
    },
    {
      "cell_type": "markdown",
      "source": [
        " 14. Remove Duplicates\n",
        " Objective: Remove duplicate elements from a list.\n",
        " Input: A list of integers.\n",
        " Output: A list with unique elements.\n",
        " Hint: Use a set to eliminate duplicates or iterate and add unique elements to a new list."
      ],
      "metadata": {
        "id": "UoBY9p5cvFsa"
      }
    },
    {
      "cell_type": "code",
      "source": [
        "def remove_duplicates(lst):\n",
        "    unique_list = []\n",
        "    for num in lst:\n",
        "        if num not in unique_list:\n",
        "            unique_list.append(num)  # Add only if not present\n",
        "    return unique_list\n",
        "\n",
        "# Example usage\n",
        "numbers = list(map(int, input(\"Enter space-separated numbers: \").split()))\n",
        "print(\"List without duplicates:\", remove_duplicates(numbers))\n"
      ],
      "metadata": {
        "colab": {
          "base_uri": "https://localhost:8080/"
        },
        "id": "7KXBAAMtvar3",
        "outputId": "edf14d16-9d60-4787-a5fa-28365ac5828d"
      },
      "execution_count": 8,
      "outputs": [
        {
          "output_type": "stream",
          "name": "stdout",
          "text": [
            "Enter space-separated numbers: 1 2 2 4 5 4 6 7 4 6 6 10 10 9 6 \n",
            "List without duplicates: [1, 2, 4, 5, 6, 7, 10, 9]\n"
          ]
        }
      ]
    },
    {
      "cell_type": "markdown",
      "source": [
        "15. String Length\n",
        " Objective: Find the length of a string without using the len() function.\n",
        " Input: A string.\n",
        " Output: Integer representing the length.\n",
        " Hint: Use a loop to count characters in the string."
      ],
      "metadata": {
        "id": "J0MID4NIvcjT"
      }
    },
    {
      "cell_type": "code",
      "source": [
        "def string_length(s):\n",
        "    count = 0\n",
        "    for _ in s:  # Iterate through each character\n",
        "        count += 1\n",
        "    return count\n",
        "\n",
        "# Example usage\n",
        "text = input(\"Enter a string: \")\n",
        "print(\"Length of the string:\", string_length(text))\n"
      ],
      "metadata": {
        "id": "oPfrZsDGvrjG"
      },
      "execution_count": null,
      "outputs": []
    },
    {
      "cell_type": "markdown",
      "source": [
        " 16. Count Vowels and Consonants\n",
        " Objective: Count the number of vowels and consonants in a string.\n",
        " Input: A string.\n",
        " Output: Two integers: count of vowels and count of consonants.\n",
        " Hint: Define a set of vowels ('a', 'e', 'i', 'o', 'u'), and use string methods to\n",
        " identify letters"
      ],
      "metadata": {
        "id": "J79cFZGCv3dv"
      }
    },
    {
      "cell_type": "code",
      "source": [
        "def count_vowels_consonants(s):\n",
        "    vowels = set(\"aeiouAEIOU\")  # Define vowels (both uppercase and lowercase)\n",
        "    vowel_count = consonant_count = 0\n",
        "\n",
        "    for char in s:\n",
        "        if char.isalpha():  # Check if the character is a letter\n",
        "            if char in vowels:\n",
        "                vowel_count += 1\n",
        "            else:\n",
        "                consonant_count += 1\n",
        "\n",
        "    return vowel_count, consonant_count\n",
        "\n",
        "# Example usage\n",
        "text = input(\"Enter a string: \")\n",
        "vowels, consonants = count_vowels_consonants(text)\n",
        "print(f\"Vowels: {vowels}, Consonants: {consonants}\")\n"
      ],
      "metadata": {
        "colab": {
          "base_uri": "https://localhost:8080/"
        },
        "id": "gS10PG4Ov8T7",
        "outputId": "088c5d39-e324-440e-b203-b23644f23950"
      },
      "execution_count": 9,
      "outputs": [
        {
          "output_type": "stream",
          "name": "stdout",
          "text": [
            "Enter a string: mainflow\n",
            "Vowels: 3, Consonants: 5\n"
          ]
        }
      ]
    },
    {
      "cell_type": "markdown",
      "source": [
        " 2. Maze Generator and Solver\n",
        " ● Description: Build a program that generates random mazes and solves them using\n",
        " techniques like Depth-First Search (DFS) or Breadth-First Search (BFS).\n",
        " ● Challenges:\n",
        " ○ Represent the maze as a grid using nested lists.\n",
        " ○ Implement logic to ensure generated mazes are solvable.\n",
        " ○ Visualize the maze in the terminal with clear paths and walls.\n",
        " ● Skills: Recursive algorithms, graph theory, and problem-solving.\n",
        "  ● Restriction: No use of external libraries for visualization or graphical rendering\n",
        " (like matplotlib, pygame).\n",
        " ● Reason: This restriction ensures that students focus on core algorithmic logic rather\n",
        " than visualizing the maze. The main objective is to implement algorithms like\n",
        " Depth-First Search (DFS) or Breadth-First Search (BFS) to generate and solve mazes\n",
        " programmatically. The visualization of the maze is secondary and can be achieved in a\n",
        " simple text-based format (like using 1 for walls and 0 for paths).\n",
        " ● Learning Outcome: Students will learn about graph traversal algorithms,\n",
        " backtracking, and recursive thinking, which are fundamental concepts in computer\n",
        " science."
      ],
      "metadata": {
        "id": "5WuGYTXLv97d"
      }
    },
    {
      "cell_type": "code",
      "source": [
        "import random\n",
        "from collections import deque\n",
        "\n",
        "# Maze dimensions (must be odd for proper walls)\n",
        "WIDTH, HEIGHT = 21, 21\n",
        "\n",
        "# Directions for movement (up, down, left, right)\n",
        "DIRECTIONS = [(-2, 0), (2, 0), (0, -2), (0, 2)]\n",
        "\n",
        "def generate_maze(width, height):\n",
        "    \"\"\"Generates a random maze using DFS with backtracking.\"\"\"\n",
        "    maze = [['#' for _ in range(width)] for _ in range(height)]  # Start with walls\n",
        "\n",
        "    def dfs(x, y):\n",
        "        maze[y][x] = '.'  # Mark the current cell as a path\n",
        "        random.shuffle(DIRECTIONS)  # Randomize direction order\n",
        "\n",
        "        for dx, dy in DIRECTIONS:\n",
        "            nx, ny = x + dx, y + dy  # Neighbor cell\n",
        "            if 1 <= ny < height - 1 and 1 <= nx < width - 1 and maze[ny][nx] == '#':\n",
        "                maze[y + dy // 2][x + dx // 2] = '.'  # Remove wall between cells\n",
        "                dfs(nx, ny)\n",
        "\n",
        "    # Start DFS from top-left corner\n",
        "    dfs(1, 1)\n",
        "    maze[1][0] = '.'  # Entry\n",
        "    maze[height - 2][width - 1] = '.'  # Exit\n",
        "    return maze\n",
        "\n",
        "def solve_maze(maze):\n",
        "    \"\"\"Solves the maze using BFS and returns the shortest path.\"\"\"\n",
        "    height, width = len(maze), len(maze[0])\n",
        "    start, end = (1, 0), (height - 2, width - 1)  # Entry and exit points\n",
        "    queue = deque([(start, [start])])  # BFS queue with paths\n",
        "\n",
        "    while queue:\n",
        "        (x, y), path = queue.popleft()\n",
        "\n",
        "        if (x, y) == end:\n",
        "            return path  # Return the found path\n",
        "\n",
        "        for dx, dy in [(-1, 0), (1, 0), (0, -1), (0, 1)]:  # Move directions\n",
        "            nx, ny = x + dx, y + dy\n",
        "            if 0 <= ny < height and 0 <= nx < width and maze[ny][nx] == '.':\n",
        "                maze[ny][nx] = '*'  # Mark visited\n",
        "                queue.append(((nx, ny), path + [(nx, ny)]))\n",
        "\n",
        "    return None  # No solution\n",
        "\n",
        "def display_maze(maze, path=None):\n",
        "    \"\"\"Displays the maze in the terminal.\"\"\"\n",
        "    maze_copy = [row[:] for row in maze]\n",
        "\n",
        "    if path:\n",
        "        for x, y in path:\n",
        "            if maze_copy[y][x] == '.':\n",
        "                maze_copy[y][x] = '*'\n",
        "\n",
        "    for row in maze_copy:\n",
        "        print(\"\".join(row))\n",
        "\n",
        "# Generate and solve the maze\n",
        "maze = generate_maze(WIDTH, HEIGHT)\n",
        "path = solve_maze(maze)\n",
        "\n",
        "# Display the maze with solution path\n",
        "print(\"\\nGenerated Maze:\\n\")\n",
        "display_maze(maze)\n",
        "\n",
        "if path:\n",
        "    print(\"\\nSolved Maze:\\n\")\n",
        "    display_maze(maze, path)\n",
        "else:\n",
        "    print(\"\\nNo solution found!\")\n"
      ],
      "metadata": {
        "colab": {
          "base_uri": "https://localhost:8080/"
        },
        "id": "_GQe4VkawMR0",
        "outputId": "180a3bdf-9124-4153-fe29-b00583f6239e"
      },
      "execution_count": 10,
      "outputs": [
        {
          "output_type": "stream",
          "name": "stdout",
          "text": [
            "\n",
            "Generated Maze:\n",
            "\n",
            "#####################\n",
            "****#*****#*****#***#\n",
            "###*#*###*#*###*###*#\n",
            "#***#***#***#*#***#*#\n",
            "#*#####*###*#*###*#*#\n",
            "#*#***#***#*#*****#*#\n",
            "#*#*#*#####*###*###*#\n",
            "#***#*****#***#*****#\n",
            "#########*###*#####*#\n",
            "#***#***#***#*****#*#\n",
            "#*###*#####*#####*###\n",
            "#*********#*****#***#\n",
            "#########*#####*###*#\n",
            "#*****#*********#***#\n",
            "###*#*#*#########*###\n",
            "#***#***#***#*******#\n",
            "#*#######*#*#######*#\n",
            "#***#*#***#*******#*#\n",
            "###*#*#*#########*#*#\n",
            "#*******#************\n",
            "#####################\n",
            "\n",
            "No solution found!\n"
          ]
        }
      ]
    }
  ]
}