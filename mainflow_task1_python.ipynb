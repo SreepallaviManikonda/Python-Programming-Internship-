{
  "nbformat": 4,
  "nbformat_minor": 0,
  "metadata": {
    "colab": {
      "provenance": []
    },
    "kernelspec": {
      "name": "python3",
      "display_name": "Python 3"
    },
    "language_info": {
      "name": "python"
    }
  },
  "cells": [
    {
      "cell_type": "markdown",
      "source": [
        "**bold text** task 1 1. The sum of Two Numbers"
      ],
      "metadata": {
        "id": "bzBHGMUFwcF8"
      }
    },
    {
      "cell_type": "code",
      "execution_count": 4,
      "metadata": {
        "colab": {
          "base_uri": "https://localhost:8080/"
        },
        "id": "gPBsVJ6vwY4s",
        "outputId": "39f3eb2f-ffb2-49b9-af72-6c051a784653"
      },
      "outputs": [
        {
          "output_type": "stream",
          "name": "stdout",
          "text": [
            "enter 1st number10\n",
            "enter the second number20\n",
            "The sum is 30\n"
          ]
        }
      ],
      "source": [
        "x=int(input('enter 1st number' ))\n",
        "y=int(input('enter the second number'))\n",
        "print(\"The sum is\", x+y)"
      ]
    },
    {
      "cell_type": "markdown",
      "source": [
        "2 CHeck the given number is odd or even"
      ],
      "metadata": {
        "id": "sI_B1l06wai0"
      }
    },
    {
      "cell_type": "code",
      "source": [
        "a=int(input(\"enter number\"))\n",
        "if (a%2==0):\n",
        "  print(\"even\")\n",
        "else :\n",
        "  print(\"odd\")"
      ],
      "metadata": {
        "colab": {
          "base_uri": "https://localhost:8080/"
        },
        "id": "tLoFsOimxs_z",
        "outputId": "e604efbc-0204-4963-c4c5-a32d81888d18"
      },
      "execution_count": 5,
      "outputs": [
        {
          "output_type": "stream",
          "name": "stdout",
          "text": [
            "enter number5\n",
            "odd\n"
          ]
        }
      ]
    },
    {
      "cell_type": "markdown",
      "source": [
        "3.Factorial Calculation"
      ],
      "metadata": {
        "id": "G6RDTOFoye5n"
      }
    },
    {
      "cell_type": "code",
      "source": [
        "import math\n",
        "b=int(input(\"enter number\"))\n",
        "print(math.factorial(b))"
      ],
      "metadata": {
        "colab": {
          "base_uri": "https://localhost:8080/"
        },
        "id": "KkZhYsEhzWQm",
        "outputId": "9caaa714-c890-4e18-91c2-babff1f01ec2"
      },
      "execution_count": 6,
      "outputs": [
        {
          "output_type": "stream",
          "name": "stdout",
          "text": [
            "enter number5\n",
            "120\n"
          ]
        }
      ]
    },
    {
      "cell_type": "markdown",
      "source": [
        "4.Fibonacci Sequence\n"
      ],
      "metadata": {
        "id": "Iu_5eO9jzvZe"
      }
    },
    {
      "cell_type": "code",
      "source": [
        "\n",
        "def fibonacci(n):\n",
        "    fib_sequence = [0, 1]\n",
        "    while len(fib_sequence) < n:\n",
        "        fib_sequence.append(fib_sequence[-1] + fib_sequence[-2])\n",
        "    return fib_sequence\n",
        "\n",
        "# Example usage:\n",
        "n = 10  # Change this value to generate more or fewer Fibonacci numbers\n",
        "print(fibonacci(n))\n",
        "\n",
        "\n",
        "\n"
      ],
      "metadata": {
        "colab": {
          "base_uri": "https://localhost:8080/"
        },
        "id": "3Z-Im3KQz5nT",
        "outputId": "39a9387c-f326-4587-9756-e8baf56d8b27"
      },
      "execution_count": 11,
      "outputs": [
        {
          "output_type": "stream",
          "name": "stdout",
          "text": [
            "[0, 1, 1, 2, 3, 5, 8, 13, 21, 34]\n"
          ]
        }
      ]
    },
    {
      "cell_type": "markdown",
      "source": [
        "5. Reverse a String"
      ],
      "metadata": {
        "id": "NjvDYdXP3k3O"
      }
    },
    {
      "cell_type": "markdown",
      "source": [],
      "metadata": {
        "id": "wmvTddOA3twj"
      }
    },
    {
      "cell_type": "code",
      "source": [
        "s=input()\n",
        "print(s[::-1])"
      ],
      "metadata": {
        "colab": {
          "base_uri": "https://localhost:8080/"
        },
        "id": "cqMgdy8j4_w1",
        "outputId": "8536d383-f6aa-4ae6-ac15-c64d9a0e6598"
      },
      "execution_count": 16,
      "outputs": [
        {
          "output_type": "stream",
          "name": "stdout",
          "text": [
            "aba\n",
            "aba\n"
          ]
        }
      ]
    },
    {
      "cell_type": "markdown",
      "source": [
        "6.Palindrome check"
      ],
      "metadata": {
        "id": "LhaN2q0G5gKt"
      }
    },
    {
      "cell_type": "markdown",
      "source": [],
      "metadata": {
        "id": "ZpXGSF3L5lgS"
      }
    },
    {
      "cell_type": "code",
      "source": [
        "if s==s[::-1]:\n",
        "  print(\"palindrom\")\n",
        "else:\n",
        "  print(\"not a palindrom\")"
      ],
      "metadata": {
        "colab": {
          "base_uri": "https://localhost:8080/"
        },
        "id": "kc449CKS5myI",
        "outputId": "24d6e53f-0022-45c3-dab4-a8cb3c6cdab7"
      },
      "execution_count": 17,
      "outputs": [
        {
          "output_type": "stream",
          "name": "stdout",
          "text": [
            "palindrom\n"
          ]
        }
      ]
    },
    {
      "cell_type": "markdown",
      "source": [
        "7.Leap Year Check"
      ],
      "metadata": {
        "id": "B0BxEeer6U3k"
      }
    },
    {
      "cell_type": "code",
      "source": [
        "year=int(input())\n",
        "if (year%4==0)and(year%100!=0)or(year%400==0):\n",
        "  print(\"leap year\")\n",
        "else :\n",
        "  print(\"not a leap year\")"
      ],
      "metadata": {
        "colab": {
          "base_uri": "https://localhost:8080/"
        },
        "id": "ENPK9_I-6a_J",
        "outputId": "232fd5ca-37f3-4e84-ad9b-5b188a52c46e"
      },
      "execution_count": 19,
      "outputs": [
        {
          "output_type": "stream",
          "name": "stdout",
          "text": [
            "2024\n",
            "leap year\n"
          ]
        }
      ]
    },
    {
      "cell_type": "markdown",
      "source": [
        "8.Armstrong Number"
      ],
      "metadata": {
        "id": "Kf-pQjuY7NAz"
      }
    },
    {
      "cell_type": "code",
      "source": [
        "i=int(input())\n",
        "m=0\n",
        "n=i\n",
        "while n!=0:\n",
        "\n",
        "  n=int(n/10)\n",
        "  m+=1\n",
        "n=i\n",
        "sum=0\n",
        "while n!=0:\n",
        "  j=n%10\n",
        "  n=int(n/10)\n",
        "  sum+=j**m\n",
        "if sum==i:\n",
        "  print('True')\n",
        "else:\n",
        "  print('False')"
      ],
      "metadata": {
        "colab": {
          "base_uri": "https://localhost:8080/"
        },
        "id": "6iukJMBj81tT",
        "outputId": "dcdc5773-7860-42ce-e6d1-425d1ee32d86"
      },
      "execution_count": 23,
      "outputs": [
        {
          "output_type": "stream",
          "name": "stdout",
          "text": [
            "153\n",
            "True\n"
          ]
        }
      ]
    },
    {
      "cell_type": "markdown",
      "source": [
        "encrpytion and decryption"
      ],
      "metadata": {
        "id": "lnSqV7Mb-X-o"
      }
    },
    {
      "cell_type": "code",
      "source": [
        "def generate_key():\n",
        "    import string\n",
        "    import random\n",
        "    letters = string.ascii_lowercase\n",
        "    shuffled = ''.join(random.sample(letters, len(letters)))\n",
        "    return dict(zip(letters, shuffled))\n",
        "\n",
        "def encrypt_substitution(plaintext, key):\n",
        "    return ''.join(key.get(char, char) for char in plaintext.lower())\n",
        "\n",
        "def decrypt_substitution(ciphertext, key):\n",
        "    reverse_key = {v: k for k, v in key.items()}\n",
        "    return ''.join(reverse_key.get(char, char) for char in ciphertext)\n",
        "\n",
        "# Example usage:\n",
        "key = generate_key()\n",
        "plaintext = \"Hello, World!\"\n",
        "ciphertext = encrypt_substitution(plaintext, key)\n",
        "decrypted_text = decrypt_substitution(ciphertext, key)\n",
        "\n",
        "print(\"Key:\", key)\n",
        "print(\"Encrypted message:\", ciphertext)\n",
        "print(\"Decrypted message:\", decrypted_text)\n"
      ],
      "metadata": {
        "colab": {
          "base_uri": "https://localhost:8080/"
        },
        "id": "Oh5EQq0u-fIB",
        "outputId": "7fa77093-1c29-440e-c419-1648f3a24c3a"
      },
      "execution_count": 25,
      "outputs": [
        {
          "output_type": "stream",
          "name": "stdout",
          "text": [
            "Key: {'a': 'm', 'b': 'h', 'c': 'a', 'd': 'b', 'e': 'v', 'f': 'e', 'g': 'r', 'h': 'g', 'i': 'u', 'j': 'd', 'k': 'x', 'l': 'o', 'm': 'q', 'n': 'j', 'o': 'y', 'p': 'n', 'q': 'f', 'r': 'i', 's': 'l', 't': 'z', 'u': 's', 'v': 'p', 'w': 'c', 'x': 'w', 'y': 't', 'z': 'k'}\n",
            "Encrypted message: gvooy, cyiob!\n",
            "Decrypted message: hello, world!\n"
          ]
        }
      ]
    }
  ]
}