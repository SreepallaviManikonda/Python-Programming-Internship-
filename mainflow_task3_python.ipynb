{
  "nbformat": 4,
  "nbformat_minor": 0,
  "metadata": {
    "colab": {
      "provenance": []
    },
    "kernelspec": {
      "name": "python3",
      "display_name": "Python 3"
    },
    "language_info": {
      "name": "python"
    }
  },
  "cells": [
    {
      "cell_type": "markdown",
      "source": [
        " 17. Table of a Number\n",
        " Objective: Print the multiplication table for a given number nnn.\n",
        " Input: An integer nnn.\n",
        " Output: Multiplication table from 111 to 101010.\n",
        " Hint: Use a loop to iterate through values 1 to 10 and multiply by nnn."
      ],
      "metadata": {
        "id": "Gz23W4rBhcjw"
      }
    },
    {
      "cell_type": "code",
      "execution_count": 1,
      "metadata": {
        "colab": {
          "base_uri": "https://localhost:8080/"
        },
        "id": "1pBLtWOBhWqQ",
        "outputId": "55ebedad-d54b-416b-d2ce-3043aa1d4658"
      },
      "outputs": [
        {
          "output_type": "stream",
          "name": "stdout",
          "text": [
            "Enter a number: 5\n",
            "5 × 1 = 5\n",
            "5 × 2 = 10\n",
            "5 × 3 = 15\n",
            "5 × 4 = 20\n",
            "5 × 5 = 25\n",
            "5 × 6 = 30\n",
            "5 × 7 = 35\n",
            "5 × 8 = 40\n",
            "5 × 9 = 45\n",
            "5 × 10 = 50\n"
          ]
        }
      ],
      "source": [
        "def multiplication_table(n):\n",
        "    for i in range(1, 11):  # Loop from 1 to 10\n",
        "        print(f\"{n} × {i} = {n * i}\")  # Format output\n",
        "\n",
        "# Example usage\n",
        "num = int(input(\"Enter a number: \"))\n",
        "multiplication_table(num)\n"
      ]
    },
    {
      "cell_type": "markdown",
      "source": [
        "18. Swap Two Numbers\n",
        " Objective: Swap two numbers without using a third variable.\n",
        " Input: Two integers aaa and bbb.\n",
        " Output: Swapped values of aaa and bbb.\n",
        " Hint: Use arithmetic operations like addition and subtraction or XOR (a, b = b, a)."
      ],
      "metadata": {
        "id": "vqhNhK9Khm1b"
      }
    },
    {
      "cell_type": "code",
      "source": [
        "a, b = map(int, input(\"Enter two numbers: \").split())\n",
        "a, b = b, a  # Pythonic way to swap\n",
        "print(\"Swapped values:\", a, b)\n"
      ],
      "metadata": {
        "colab": {
          "base_uri": "https://localhost:8080/"
        },
        "id": "HnbXo5hqhwW8",
        "outputId": "c6cbd365-95ce-4d4a-ee98-adf790427141"
      },
      "execution_count": 2,
      "outputs": [
        {
          "output_type": "stream",
          "name": "stdout",
          "text": [
            "Enter two numbers: 3 4\n",
            "Swapped values: 4 3\n"
          ]
        }
      ]
    },
    {
      "cell_type": "markdown",
      "source": [
        "19. Check Substring\n",
        " Objective: Determine if one string is a substring of another.\n",
        " Input: Two strings s1s1s1 (main string) and s2s2s2 (substring).\n",
        " Output: True if s2s2s2 is a substring of s1s1s1, otherwise False.\n",
        " Hint: Use Python's in operator or string slicing to search for substrings."
      ],
      "metadata": {
        "id": "w5m5yKxvh5jI"
      }
    },
    {
      "cell_type": "code",
      "source": [
        "def check_substring(s1, s2):\n",
        "    return s1.find(s2) != -1  # Returns True if s2 is found, else False\n",
        "\n",
        "# Example usage\n",
        "s1 = input(\"Enter main string: \")\n",
        "s2 = input(\"Enter substring: \")\n",
        "\n",
        "print(check_substring(s1, s2))\n"
      ],
      "metadata": {
        "colab": {
          "base_uri": "https://localhost:8080/"
        },
        "id": "PPU6QmVEiAzh",
        "outputId": "32681fe5-e0f7-4e29-9ce8-b802cd483bf6"
      },
      "execution_count": 3,
      "outputs": [
        {
          "output_type": "stream",
          "name": "stdout",
          "text": [
            "Enter main string: Python\n",
            "Enter substring: Pyt\n",
            "True\n"
          ]
        }
      ]
    },
    {
      "cell_type": "markdown",
      "source": [
        " 20. Decimal to Binary\n",
        " Objective: Convert a decimal number to its binary representation.\n",
        " Input: An integer nnn.\n",
        " Output: A string representing the binary equivalent.\n",
        " Hint: Use the bin() function or repeatedly divide nnn by 2, storing remainders"
      ],
      "metadata": {
        "id": "MdHESUlPjyoi"
      }
    },
    {
      "cell_type": "code",
      "source": [
        "def decimal_to_binary(n):\n",
        "    return bin(n)[2:]  # bin() returns '0b...' so we slice off '0b'\n",
        "\n",
        "# Example usage\n",
        "num = int(input(\"Enter a decimal number: \"))\n",
        "print(\"Binary:\", decimal_to_binary(num))\n"
      ],
      "metadata": {
        "colab": {
          "base_uri": "https://localhost:8080/"
        },
        "id": "1lCoRdHzj0RR",
        "outputId": "2d828f9a-326b-4255-9352-14b233d8b781"
      },
      "execution_count": 4,
      "outputs": [
        {
          "output_type": "stream",
          "name": "stdout",
          "text": [
            "Enter a decimal number: 12\n",
            "Binary: 1100\n"
          ]
        }
      ]
    },
    {
      "cell_type": "markdown",
      "source": [
        " 21. Matrix Addition\n",
        " Objective: Add two matrices of the same dimensions.\n",
        " Input: Two 2D lists (matrices) of integers.\n",
        " Output: A 2D list containing the sum of corresponding elements.\n",
        " Hint: Use nested loops to iterate through rows and columns, adding corresponding\n",
        " elements"
      ],
      "metadata": {
        "id": "SsiVvDQfj8Rl"
      }
    },
    {
      "cell_type": "code",
      "source": [
        "def add_matrices(A, B):\n",
        "    return [[A[i][j] + B[i][j] for j in range(len(A[0]))] for i in range(len(A))]\n",
        "\n",
        "# Example usage\n",
        "A = [[1, 2], [3, 4]]\n",
        "B = [[5, 6], [7, 8]]\n",
        "\n",
        "result = add_matrices(A, B)\n",
        "for row in result:\n",
        "    print(row)\n"
      ],
      "metadata": {
        "colab": {
          "base_uri": "https://localhost:8080/"
        },
        "id": "EJ52vnsUkR3w",
        "outputId": "b7539b55-5148-4b92-8f36-12de9583d460"
      },
      "execution_count": 5,
      "outputs": [
        {
          "output_type": "stream",
          "name": "stdout",
          "text": [
            "[6, 8]\n",
            "[10, 12]\n"
          ]
        }
      ]
    },
    {
      "cell_type": "markdown",
      "source": [
        "22. Matrix Multiplication\n",
        " Objective: Multiply two matrices AAA and BBB.\n",
        " Input: Two 2D lists where the number of columns in AAA equals the number of rows in\n",
        " BBB.\n",
        " Output: A 2D list representing the product matrix.\n",
        " Hint: Multiply elements row-by-column and sum for each position in the result matri"
      ],
      "metadata": {
        "id": "pT0vMSFBkabV"
      }
    },
    {
      "cell_type": "code",
      "source": [
        "def multiply_matrices(A, B):\n",
        "    return [[sum(A[i][k] * B[k][j] for k in range(len(A[0]))) for j in range(len(B[0]))] for i in range(len(A))]\n",
        "\n",
        "# Example usage\n",
        "A = [[1, 2], [3, 4]]\n",
        "B = [[5, 6], [7, 8]]\n",
        "\n",
        "result = multiply_matrices(A, B)\n",
        "for row in result:\n",
        "    print(row)\n"
      ],
      "metadata": {
        "colab": {
          "base_uri": "https://localhost:8080/"
        },
        "id": "6o3HUfLvkvZ8",
        "outputId": "eeba37be-980c-4a96-e8bf-2827400e1bf0"
      },
      "execution_count": 6,
      "outputs": [
        {
          "output_type": "stream",
          "name": "stdout",
          "text": [
            "[19, 22]\n",
            "[43, 50]\n"
          ]
        }
      ]
    },
    {
      "cell_type": "markdown",
      "source": [
        "23. Find Second Largest\n",
        " Objective: Find the second largest number in a list.\n",
        " Input: A list of integers.\n",
        " Output: The second largest integer.\n",
        " Hint: Use sorting or iterate to find the largest, then the second largest"
      ],
      "metadata": {
        "id": "Jre3J4-VlLgf"
      }
    },
    {
      "cell_type": "code",
      "source": [
        "def second_largest(nums):\n",
        "    if len(nums) < 2:\n",
        "        return None  # Not enough elements\n",
        "\n",
        "    nums = list(set(nums))  # Remove duplicates\n",
        "    nums.sort(reverse=True)  # Sort in descending order\n",
        "\n",
        "    return nums[1]  # Second largest element\n",
        "\n",
        "# Example usage\n",
        "nums = [10, 20, 4, 45, 99, 99]\n",
        "print(second_largest(nums))  # Output: 45\n"
      ],
      "metadata": {
        "colab": {
          "base_uri": "https://localhost:8080/"
        },
        "id": "Lujl_TaBlTNJ",
        "outputId": "d3ddfb61-64e8-4dcc-b88d-74b0a796f159"
      },
      "execution_count": 7,
      "outputs": [
        {
          "output_type": "stream",
          "name": "stdout",
          "text": [
            "45\n"
          ]
        }
      ]
    },
    {
      "cell_type": "markdown",
      "source": [
        " 24. Check Anagram\n",
        " Objective: Check if two strings are anagrams (contain the same characters in any\n",
        " order).\n",
        " Input: Two strings.\n",
        " Output: True if anagrams, otherwise False.\n",
        " Hint: Use sorted() on both strings or count character occurrences using a dictionary"
      ],
      "metadata": {
        "id": "j0OeL0ISloJ4"
      }
    },
    {
      "cell_type": "code",
      "source": [
        "def is_anagram(s1, s2):\n",
        "    return sorted(s1) == sorted(s2)\n",
        "\n",
        "# Example usage\n",
        "print(is_anagram(\"listen\", \"silent\"))  # Output: True\n",
        "print(is_anagram(\"hello\", \"world\"))    # Output: False\n"
      ],
      "metadata": {
        "colab": {
          "base_uri": "https://localhost:8080/"
        },
        "id": "2t-1pK6RlyAK",
        "outputId": "1c6500a0-db20-4ec6-bbb8-0d6b89e3654a"
      },
      "execution_count": 8,
      "outputs": [
        {
          "output_type": "stream",
          "name": "stdout",
          "text": [
            "True\n",
            "False\n"
          ]
        }
      ]
    },
    {
      "cell_type": "markdown",
      "source": [
        "**TASK 3**\n",
        ". AI-Based Tic-Tac-Toe\n",
        " ● Description: Create a Tic-Tac-Toe game where the computer plays against the user and\n",
        " uses a minimax algorithm to make decisions.\n",
        " ● Challenges:\n",
        " ○ Implement AI logic with decision trees.\n",
        " ○ Handle edge cases like a full board or winning moves.\n",
        " ○ Provide a user-friendly interface.\n",
        " ● Skills: Game theory, recursion, and strategic thinking\n",
        "  ● Restriction: Only use the minimax algorithm for AI decision-making.\n",
        " ● Reason: The minimax algorithm is a classic AI strategy used in games to determine\n",
        " optimal moves. This restriction forces students to implement and understand the core\n",
        " logic of decision-making algorithms, ensuring the AI plays optimally and is not\n",
        " random or rudimentary. This will deepen their understanding of decision trees, recursion,\n",
        " and game theory.\n",
        " ● Learning Outcome: Students will learn how to create intelligent agents in games,\n",
        " gaining insight into search algorithms, recursion, and game strategy optimization"
      ],
      "metadata": {
        "id": "3rokwL1Fl8mF"
      }
    },
    {
      "cell_type": "code",
      "source": [
        "import math\n",
        "\n",
        "# Initialize the board\n",
        "board = [[\" \" for _ in range(3)] for _ in range(3)]\n",
        "\n",
        "def print_board():\n",
        "    \"\"\"Print the Tic-Tac-Toe board.\"\"\"\n",
        "    for row in board:\n",
        "        print(\" | \".join(row))\n",
        "        print(\"-\" * 9)\n",
        "\n",
        "def check_winner(b):\n",
        "    \"\"\"Check if there is a winner or a tie.\"\"\"\n",
        "    for row in b:\n",
        "        if row[0] == row[1] == row[2] and row[0] != \" \":\n",
        "            return row[0]\n",
        "\n",
        "    for col in range(3):\n",
        "        if b[0][col] == b[1][col] == b[2][col] and b[0][col] != \" \":\n",
        "            return b[0][col]\n",
        "\n",
        "    if b[0][0] == b[1][1] == b[2][2] and b[0][0] != \" \":\n",
        "        return b[0][0]\n",
        "\n",
        "    if b[0][2] == b[1][1] == b[2][0] and b[0][2] != \" \":\n",
        "        return b[0][2]\n",
        "\n",
        "    for row in b:\n",
        "        for cell in row:\n",
        "            if cell == \" \":\n",
        "                return None  # Game still ongoing\n",
        "\n",
        "    return \"Tie\"  # If no winner and board is full\n",
        "\n",
        "def minimax(b, depth, is_maximizing):\n",
        "    \"\"\"Minimax algorithm for AI decision-making.\"\"\"\n",
        "    scores = {\"X\": 1, \"O\": -1, \"Tie\": 0}\n",
        "    result = check_winner(b)\n",
        "\n",
        "    if result is not None:\n",
        "        return scores[result]\n",
        "\n",
        "    if is_maximizing:\n",
        "        best_score = -math.inf\n",
        "        for i in range(3):\n",
        "            for j in range(3):\n",
        "                if b[i][j] == \" \":\n",
        "                    b[i][j] = \"X\"\n",
        "                    score = minimax(b, depth + 1, False)\n",
        "                    b[i][j] = \" \"\n",
        "                    best_score = max(score, best_score)\n",
        "        return best_score\n",
        "    else:\n",
        "        best_score = math.inf\n",
        "        for i in range(3):\n",
        "            for j in range(3):\n",
        "                if b[i][j] == \" \":\n",
        "                    b[i][j] = \"O\"\n",
        "                    score = minimax(b, depth + 1, True)\n",
        "                    b[i][j] = \" \"\n",
        "                    best_score = min(score, best_score)\n",
        "        return best_score\n",
        "\n",
        "def best_move():\n",
        "    \"\"\"Find the best move for AI (X).\"\"\"\n",
        "    best_score = -math.inf\n",
        "    move = None\n",
        "\n",
        "    for i in range(3):\n",
        "        for j in range(3):\n",
        "            if board[i][j] == \" \":\n",
        "                board[i][j] = \"X\"\n",
        "                score = minimax(board, 0, False)\n",
        "                board[i][j] = \" \"\n",
        "                if score > best_score:\n",
        "                    best_score = score\n",
        "                    move = (i, j)\n",
        "\n",
        "    if move:\n",
        "        board[move[0]][move[1]] = \"X\"\n",
        "\n",
        "def human_move():\n",
        "    \"\"\"Get human player's move.\"\"\"\n",
        "    while True:\n",
        "        try:\n",
        "            row, col = map(int, input(\"Enter row and column (0-2, space-separated): \").split())\n",
        "            if board[row][col] == \" \":\n",
        "                board[row][col] = \"O\"\n",
        "                break\n",
        "            else:\n",
        "                print(\"Cell occupied! Choose again.\")\n",
        "        except (ValueError, IndexError):\n",
        "            print(\"Invalid input! Enter numbers between 0 and 2.\")\n",
        "\n",
        "def play():\n",
        "    \"\"\"Main game loop.\"\"\"\n",
        "    print(\"Welcome to Tic-Tac-Toe! AI plays as 'X', you play as 'O'.\")\n",
        "    print_board()\n",
        "\n",
        "    for _ in range(9):  # Max 9 moves in a 3x3 grid\n",
        "        human_move()\n",
        "        print_board()\n",
        "\n",
        "        if check_winner(board):\n",
        "            break\n",
        "\n",
        "        print(\"AI is making its move...\")\n",
        "        best_move()\n",
        "        print_board()\n",
        "\n",
        "        if check_winner(board):\n",
        "            break\n",
        "\n",
        "    winner = check_winner(board)\n",
        "    if winner == \"X\":\n",
        "        print(\"AI wins!\")\n",
        "    elif winner == \"O\":\n",
        "        print(\"You win!\")\n",
        "    else:\n",
        "        print(\"It's a tie!\")\n",
        "\n",
        "play()\n"
      ],
      "metadata": {
        "colab": {
          "base_uri": "https://localhost:8080/"
        },
        "id": "jmsskj0YmjoU",
        "outputId": "15c0f714-df82-4b08-8213-f73ebb52369a"
      },
      "execution_count": 9,
      "outputs": [
        {
          "output_type": "stream",
          "name": "stdout",
          "text": [
            "Welcome to Tic-Tac-Toe! AI plays as 'X', you play as 'O'.\n",
            "  |   |  \n",
            "---------\n",
            "  |   |  \n",
            "---------\n",
            "  |   |  \n",
            "---------\n",
            "Enter row and column (0-2, space-separated): 1 1\n",
            "  |   |  \n",
            "---------\n",
            "  | O |  \n",
            "---------\n",
            "  |   |  \n",
            "---------\n",
            "AI is making its move...\n",
            "X |   |  \n",
            "---------\n",
            "  | O |  \n",
            "---------\n",
            "  |   |  \n",
            "---------\n",
            "Enter row and column (0-2, space-separated): 3 1\n",
            "Invalid input! Enter numbers between 0 and 2.\n",
            "Enter row and column (0-2, space-separated): 3 3\n",
            "Invalid input! Enter numbers between 0 and 2.\n",
            "Enter row and column (0-2, space-separated): 2 1\n",
            "X |   |  \n",
            "---------\n",
            "  | O |  \n",
            "---------\n",
            "  | O |  \n",
            "---------\n",
            "AI is making its move...\n",
            "X | X |  \n",
            "---------\n",
            "  | O |  \n",
            "---------\n",
            "  | O |  \n",
            "---------\n",
            "Enter row and column (0-2, space-separated): 0 2\n",
            "X | X | O\n",
            "---------\n",
            "  | O |  \n",
            "---------\n",
            "  | O |  \n",
            "---------\n",
            "AI is making its move...\n",
            "X | X | O\n",
            "---------\n",
            "  | O |  \n",
            "---------\n",
            "X | O |  \n",
            "---------\n",
            "Enter row and column (0-2, space-separated): 1 0\n",
            "X | X | O\n",
            "---------\n",
            "O | O |  \n",
            "---------\n",
            "X | O |  \n",
            "---------\n",
            "AI is making its move...\n",
            "X | X | O\n",
            "---------\n",
            "O | O | X\n",
            "---------\n",
            "X | O |  \n",
            "---------\n",
            "Enter row and column (0-2, space-separated): 2 2\n",
            "X | X | O\n",
            "---------\n",
            "O | O | X\n",
            "---------\n",
            "X | O | O\n",
            "---------\n",
            "It's a tie!\n"
          ]
        }
      ]
    }
  ]
}